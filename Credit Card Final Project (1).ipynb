{
 "cells": [
  {
   "cell_type": "code",
   "execution_count": 1,
   "metadata": {},
   "outputs": [],
   "source": [
    "import pandas as pd\n",
    "import numpy as np\n",
    "import seaborn as sns\n",
    "from sklearn.preprocessing import StandardScaler, RobustScaler\n",
    "from sklearn.model_selection import StratifiedShuffleSplit\n",
    "from sklearn.preprocessing import LabelEncoder\n",
    "from sklearn.model_selection import train_test_split, cross_val_score\n",
    "from sklearn.metrics import roc_auc_score, log_loss, accuracy_score\n",
    "from sklearn.metrics import roc_curve, roc_auc_score\n",
    "from sklearn.metrics import confusion_matrix, recall_score, precision_score\n",
    "from sklearn.preprocessing import binarize, PolynomialFeatures\n",
    "from sklearn.ensemble import RandomForestClassifier, AdaBoostClassifier\n",
    "from sklearn.linear_model import LogisticRegression, RidgeClassifier\n",
    "from sklearn.calibration import calibration_curve\n",
    "\n",
    "import matplotlib.pyplot as plt\n",
    "\n",
    "%matplotlib inline"
   ]
  },
  {
   "cell_type": "markdown",
   "metadata": {},
   "source": [
    "### Functions"
   ]
  },
  {
   "cell_type": "code",
   "execution_count": 2,
   "metadata": {},
   "outputs": [],
   "source": [
    "def encoder(dataset, catFeatures, qtyFeatures):\n",
    "  dataset = dataset[catFeatures + qtyFeatures]\n",
    "  dataset_encoded = pd.get_dummies(dataset, \n",
    "                                   columns = catFeatures, \n",
    "                                   drop_first = True)\n",
    "  \n",
    "  return(dataset_encoded)\n",
    "\n",
    "def plot_auc_curve(model, X, y):\n",
    "  try:\n",
    "      y_pred_prob = model.predict_proba(X)[:,1]\n",
    "  except:\n",
    "    d = model.decision_function(X)\n",
    "    y_pred_prob = np.exp(d) / (1 + np.exp(d))\n",
    "  \n",
    "  auc = roc_auc_score(y, y_pred_prob)\n",
    "  fpr, tpr, thresholds = roc_curve(y, y_pred_prob)\n",
    "  \n",
    "  plt.plot(fpr, tpr)\n",
    "  plt.xlim([0.0, 1.0])\n",
    "  plt.ylim([0.0, 1.0])\n",
    "  plt.title('ROC Curve\\n AUC={auc}'.format(auc = auc))\n",
    "  plt.xlabel('False Positive Rate')\n",
    "  plt.ylabel('True Positive Rate')\n",
    "  plt.grid(True)\n",
    "\n",
    "def model_training(model, X, y):\n",
    "  model.fit(X,y)\n",
    "  \n",
    "  return(model)\n",
    "\n",
    "def print_accurcay_metrics(model, X, y, threshold):\n",
    "  try:\n",
    "      y_pred_prob = model.predict_proba(X)[:,1]\n",
    "  except:\n",
    "    d = model.decision_function(X)\n",
    "    y_pred_prob = np.exp(d) / (1 + np.exp(d))\n",
    "  y_pred_class = binarize([y_pred_prob], threshold)[0]\n",
    "  \n",
    "  print(\"Accurcay:\", accuracy_score(y, y_pred_class))\n",
    "  print(\"AUC:\", roc_auc_score(y, y_pred_prob))\n",
    "  print(\"Log Loss:\", log_loss(y, y_pred_prob))\n",
    "  print(\"Confusion Matrix:\\n\", confusion_matrix(y, y_pred_class))\n",
    "  print(\"Recall:\", recall_score(y, y_pred_class))\n",
    "  print(\"Precision:\", precision_score(y, y_pred_class))\n",
    "\n",
    "\n",
    "def Find_Optimal_Cutoff(model, X, y):\n",
    "  try:\n",
    "    y_pred_prob = model.predict_proba(X)[:,1]\n",
    "  except:\n",
    "    d = model.decision_function(X)\n",
    "    y_pred_prob = np.exp(d) / (1 + np.exp(d))\n",
    "    \n",
    "  fpr, tpr, threshold = roc_curve(y, y_pred_prob)\n",
    "  i = np.arange(len(tpr)) \n",
    "  roc = pd.DataFrame({'tf' : pd.Series(tpr-(1-fpr), index=i), 'threshold' : pd.Series(threshold, index=i)})\n",
    "  roc_t = roc.loc[(roc.tf-0).abs().argsort()[:1]]\n",
    "  \n",
    "  print(\"Optimal Cutoff:\", roc_t['threshold'].values)\n",
    "  return(roc_t['threshold'].values)\n",
    "  \n",
    "def feature_importance(model, X):\n",
    "  importances = model.feature_importances_\n",
    "  std = np.std([tree.feature_importances_ for tree in model.estimators_],\n",
    "               axis=0)\n",
    "  indices = np.argsort(importances)[::-1]\n",
    "\n",
    "  # Print the feature ranking\n",
    "  print(\"Feature ranking:\")\n",
    "\n",
    "  for f in range(X.shape[1]):\n",
    "      print(\"%d. %s (%f)\" % (f + 1, X.columns[indices[f]], importances[indices[f]]))\n",
    "\n",
    "  # Plot the feature importances of the forest\n",
    "  plt.figure()\n",
    "  plt.title(\"Feature importances\")\n",
    "  plt.bar(range(X.shape[1]), importances[indices],\n",
    "          color=\"r\", yerr=std[indices], align=\"center\")\n",
    "  plt.xticks(range(X.shape[1]), indices)\n",
    "  plt.xlim([-1, X.shape[1]])\n",
    "  plt.show()\n",
    "\n",
    "# Plot calibration plots\n",
    "def plot_calibration(y_true, y_prob, n_bins, model_name):\n",
    "  plt.figure(figsize=(10, 10))\n",
    "  ax1 = plt.subplot2grid((3, 1), (0, 0), rowspan=2)\n",
    "  ax2 = plt.subplot2grid((3, 1), (2, 0))\n",
    "\n",
    "  ax1.plot([0, 1], [0, 1], \"k:\", label=\"Perfectly calibrated\")\n",
    "  fraction_of_positives, mean_predicted_value = \\\n",
    "        calibration_curve(y_true, y_prob, n_bins=n_bins)\n",
    "\n",
    "  ax1.plot(mean_predicted_value, fraction_of_positives, \"s-\",\n",
    "             label=\"%s\" % (model_name, ))\n",
    "\n",
    "  ax2.hist(y_pred_prob, range=(0, 1), bins=10, label=model_name,\n",
    "             histtype=\"step\", lw=2)\n",
    "\n",
    "  ax1.set_ylabel(\"Fraction of positives\")\n",
    "  ax1.set_ylim([-0.05, 1.05])\n",
    "  ax1.legend(loc=\"lower right\")\n",
    "  ax1.set_title('Calibration plots')\n",
    "\n",
    "  ax2.set_xlabel(\"Mean predicted value\")\n",
    "  ax2.set_ylabel(\"Count\")\n",
    "  ax2.legend(loc=\"upper right\", ncol=2)\n",
    "\n",
    "  plt.tight_layout()\n",
    "  plt.show()"
   ]
  },
  {
   "cell_type": "markdown",
   "metadata": {},
   "source": [
    "### Determine the number of fraud and valid transactions in the datase"
   ]
  },
  {
   "cell_type": "code",
   "execution_count": 70,
   "metadata": {},
   "outputs": [
    {
     "name": "stdout",
     "output_type": "stream",
     "text": [
      "Number of fraud transactions:  422\n",
      "Number of valid Transactions:  244385\n"
     ]
    }
   ],
   "source": [
    "Fraud = df[df['Class']==1]\n",
    "Valid = df[df['Class']==0]\n",
    "print(\"Number of fraud transactions: \",len(Fraud.index))\n",
    "print(\"Number of valid Transactions: \",len(Valid.index))"
   ]
  },
  {
   "cell_type": "markdown",
   "metadata": {},
   "source": [
    "### Amount per transaction by Fraud and Valid Transactions"
   ]
  },
  {
   "cell_type": "code",
   "execution_count": 73,
   "metadata": {},
   "outputs": [
    {
     "data": {
      "image/png": "[encoded data removed]",
      "text/plain": [
       "<Figure size 432x288 with 2 Axes>"
      ]
     },
     "metadata": {
      "needs_background": "light"
     },
     "output_type": "display_data"
    }
   ],
   "source": [
    "f, (ax1, ax2) = plt.subplots(2, 1, sharex=True)\n",
    "f.suptitle('Amount per transaction by class')\n",
    "bins = 50\n",
    "ax1.hist(Fraud.Amount, bins = bins)\n",
    "ax1.set_title('Fraud Transactions')\n",
    "ax2.hist(Valid.Amount, bins = bins)\n",
    "ax2.set_title('Valid Transactions')\n",
    "plt.xlabel('Amount ($)')\n",
    "plt.ylabel('Number of Transactions')\n",
    "plt.xlim((0, 20000))\n",
    "plt.yscale('log')\n",
    "plt.show()"
   ]
  },
  {
   "cell_type": "markdown",
   "metadata": {},
   "source": [
    "### Transactions vs TimeFrame"
   ]
  },
  {
   "cell_type": "code",
   "execution_count": 74,
   "metadata": {},
   "outputs": [
    {
     "data": {
      "image/png": "[encoded data removed]",
      "text/plain": [
       "<Figure size 432x288 with 2 Axes>"
      ]
     },
     "metadata": {
      "needs_background": "light"
     },
     "output_type": "display_data"
    }
   ],
   "source": [
    "f, (ax1, ax2) = plt.subplots(2, 1, sharex=True)\n",
    "f.suptitle('Time of transaction vs Amount by class')\n",
    "ax1.scatter(Fraud.Time, Fraud.Amount)\n",
    "ax1.set_title('Fraud')\n",
    "ax2.scatter(Valid.Time, Valid.Amount)\n",
    "ax2.set_title('Valid')\n",
    "plt.xlabel('Time (in Seconds)')\n",
    "plt.ylabel('Amount')\n",
    "plt.show()"
   ]
  },
  {
   "cell_type": "code",
   "execution_count": 88,
   "metadata": {},
   "outputs": [
    {
     "ename": "AttributeError",
     "evalue": "module 'matplotlib' has no attribute 'xlim'",
     "output_type": "error",
     "traceback": [
      "\u001b[1;31m---------------------------------------------------------------------------\u001b[0m",
      "\u001b[1;31mAttributeError\u001b[0m                            Traceback (most recent call last)",
      "\u001b[1;32m<ipython-input-88-edd8094bcca2>\u001b[0m in \u001b[0;36m<module>\u001b[1;34m\u001b[0m\n\u001b[0;32m      3\u001b[0m \u001b[0mplt\u001b[0m\u001b[1;33m.\u001b[0m\u001b[0mpyplot\u001b[0m\u001b[1;33m.\u001b[0m\u001b[0mfigure\u001b[0m\u001b[1;33m(\u001b[0m\u001b[0mfigsize\u001b[0m\u001b[1;33m=\u001b[0m\u001b[1;33m(\u001b[0m\u001b[1;36m12\u001b[0m\u001b[1;33m,\u001b[0m\u001b[1;36m4\u001b[0m\u001b[1;33m)\u001b[0m\u001b[1;33m,\u001b[0m \u001b[0mdpi\u001b[0m\u001b[1;33m=\u001b[0m\u001b[1;36m80\u001b[0m\u001b[1;33m)\u001b[0m\u001b[1;33m\u001b[0m\u001b[1;33m\u001b[0m\u001b[0m\n\u001b[0;32m      4\u001b[0m \u001b[0msb\u001b[0m\u001b[1;33m.\u001b[0m\u001b[0mdistplot\u001b[0m\u001b[1;33m(\u001b[0m\u001b[0mdf\u001b[0m\u001b[1;33m.\u001b[0m\u001b[0mTime\u001b[0m\u001b[1;33m,\u001b[0m \u001b[0mbins\u001b[0m\u001b[1;33m=\u001b[0m\u001b[1;36m48\u001b[0m\u001b[1;33m,\u001b[0m \u001b[0mkde\u001b[0m\u001b[1;33m=\u001b[0m\u001b[1;32mFalse\u001b[0m\u001b[1;33m)\u001b[0m\u001b[1;33m\u001b[0m\u001b[1;33m\u001b[0m\u001b[0m\n\u001b[1;32m----> 5\u001b[1;33m \u001b[0mplt\u001b[0m\u001b[1;33m.\u001b[0m\u001b[0mxlim\u001b[0m\u001b[1;33m(\u001b[0m\u001b[1;33m[\u001b[0m\u001b[1;36m0\u001b[0m\u001b[1;33m,\u001b[0m\u001b[1;36m50\u001b[0m\u001b[1;33m]\u001b[0m\u001b[1;33m)\u001b[0m\u001b[1;33m\u001b[0m\u001b[1;33m\u001b[0m\u001b[0m\n\u001b[0m\u001b[0;32m      6\u001b[0m \u001b[0mplt\u001b[0m\u001b[1;33m.\u001b[0m\u001b[0mpyplot\u001b[0m\u001b[1;33m.\u001b[0m\u001b[0mxticks\u001b[0m\u001b[1;33m(\u001b[0m\u001b[0mnp\u001b[0m\u001b[1;33m.\u001b[0m\u001b[0marange\u001b[0m\u001b[1;33m(\u001b[0m\u001b[1;36m0\u001b[0m\u001b[1;33m,\u001b[0m\u001b[1;36m54\u001b[0m\u001b[1;33m,\u001b[0m\u001b[1;36m6\u001b[0m\u001b[1;33m)\u001b[0m\u001b[1;33m)\u001b[0m\u001b[1;33m\u001b[0m\u001b[1;33m\u001b[0m\u001b[0m\n\u001b[0;32m      7\u001b[0m \u001b[0mplt\u001b[0m\u001b[1;33m.\u001b[0m\u001b[0mxlabel\u001b[0m\u001b[1;33m(\u001b[0m\u001b[1;34m'Time After First Transaction (hr)'\u001b[0m\u001b[1;33m)\u001b[0m\u001b[1;33m\u001b[0m\u001b[1;33m\u001b[0m\u001b[0m\n",
      "\u001b[1;31mAttributeError\u001b[0m: module 'matplotlib' has no attribute 'xlim'"
     ]
    },
    {
     "data": {
      "image/png": "[encoded data removed]",
      "text/plain": [
       "<Figure size 960x320 with 1 Axes>"
      ]
     },
     "metadata": {
      "needs_background": "light"
     },
     "output_type": "display_data"
    }
   ],
   "source": [
    "import seaborn as sb\n",
    "import matplotlib as plt\n",
    "plt.pyplot.figure(figsize=(12,4), dpi=80)\n",
    "sb.distplot(df.Time, bins=48, kde=False)\n",
    "plt.xlim([0,50])\n",
    "plt.pyplot.xticks(np.arange(0,54,6))\n",
    "plt.xlabel('Time After First Transaction (hr)')\n",
    "plt.ylabel('Count')\n",
    "plt.pyplot.title('Transaction Times')\n",
    "# the two heaps shows that maximum transactions have happened during the night time."
   ]
  },
  {
   "cell_type": "markdown",
   "metadata": {},
   "source": [
    "### Transaction Amount and Time Distributions"
   ]
  },
  {
   "cell_type": "code",
   "execution_count": 78,
   "metadata": {},
   "outputs": [
    {
     "name": "stderr",
     "output_type": "stream",
     "text": [
      "C:\\Users\\nisha\\Anaconda3\\lib\\site-packages\\scipy\\stats\\stats.py:1713: FutureWarning: Using a non-tuple sequence for multidimensional indexing is deprecated; use `arr[tuple(seq)]` instead of `arr[seq]`. In the future this will be interpreted as an array index, `arr[np.array(seq)]`, which will result either in an error or a different result.\n",
      "  return np.add.reduce(sorted[indexer] * weights, axis=axis) / sumval\n"
     ]
    },
    {
     "data": {
      "image/png": "[encoded data removed]",
      "text/plain": [
       "<Figure size 1296x288 with 2 Axes>"
      ]
     },
     "metadata": {
      "needs_background": "light"
     },
     "output_type": "display_data"
    }
   ],
   "source": [
    "fig, ax = plt.pyplot.subplots(1, 2, figsize=(18,4))\n",
    "\n",
    "amount_val = df['Amount'].values\n",
    "time_val = df['Time'].values\n",
    "\n",
    "sns.distplot(amount_val, ax=ax[0], color='r')\n",
    "ax[0].set_title('Distribution of Transaction Amount', fontsize=14)\n",
    "ax[0].set_xlim([min(amount_val), max(amount_val)])\n",
    "\n",
    "sns.distplot(time_val, ax=ax[1], color='b')\n",
    "ax[1].set_title('Distribution of Transaction Time', fontsize=14)\n",
    "ax[1].set_xlim([min(time_val), max(time_val)])\n",
    "\n",
    "plt.pyplot.show()"
   ]
  },
  {
   "cell_type": "code",
   "execution_count": 89,
   "metadata": {},
   "outputs": [
    {
     "data": {
      "image/png": "[encoded data removed]",
      "text/plain": [
       "<Figure size 1296x288 with 2 Axes>"
      ]
     },
     "metadata": {
      "needs_background": "light"
     },
     "output_type": "display_data"
    }
   ],
   "source": [
    "fig, ax = plt.pyplot.subplots(1, 2, figsize=(18,4))\n",
    "\n",
    "amount_val = tempdf['Amount'].values\n",
    "time_val = tempdf['Time'].values\n",
    "\n",
    "sns.distplot(amount_val, ax=ax[0], color='r')\n",
    "ax[0].set_title('Distribution of Transaction Amount', fontsize=14)\n",
    "ax[0].set_xlim([min(amount_val), max(amount_val)])\n",
    "\n",
    "sns.distplot(time_val, ax=ax[1], color='b')\n",
    "ax[1].set_title('Distribution of Transaction Time', fontsize=14)\n",
    "ax[1].set_xlim([min(time_val), max(time_val)])\n",
    "\n",
    "plt.pyplot.show()"
   ]
  },
  {
   "cell_type": "markdown",
   "metadata": {},
   "source": [
    "#### Import the dataset as df and test dataset as 'test_df'"
   ]
  },
  {
   "cell_type": "code",
   "execution_count": 3,
   "metadata": {},
   "outputs": [],
   "source": [
    "df = pd.read_csv('creditcard_dataset.csv')\n",
    "test_df = pd.read_csv('creditcard_test_dataset.csv')"
   ]
  },
  {
   "cell_type": "code",
   "execution_count": 79,
   "metadata": {},
   "outputs": [
    {
     "data": {
      "text/html": [
       "<div>\n",
       "<style scoped>\n",
       "    .dataframe tbody tr th:only-of-type {\n",
       "        vertical-align: middle;\n",
       "    }\n",
       "\n",
       "    .dataframe tbody tr th {\n",
       "        vertical-align: top;\n",
       "    }\n",
       "\n",
       "    .dataframe thead th {\n",
       "        text-align: right;\n",
       "    }\n",
       "</style>\n",
       "<table border=\"1\" class=\"dataframe\">\n",
       "  <thead>\n",
       "    <tr style=\"text-align: right;\">\n",
       "      <th></th>\n",
       "      <th>Time</th>\n",
       "      <th>V1</th>\n",
       "      <th>V2</th>\n",
       "      <th>V3</th>\n",
       "      <th>V4</th>\n",
       "      <th>V5</th>\n",
       "      <th>V6</th>\n",
       "      <th>V7</th>\n",
       "      <th>V8</th>\n",
       "      <th>V9</th>\n",
       "      <th>...</th>\n",
       "      <th>V23</th>\n",
       "      <th>V24</th>\n",
       "      <th>V25</th>\n",
       "      <th>V26</th>\n",
       "      <th>V27</th>\n",
       "      <th>V28</th>\n",
       "      <th>Amount</th>\n",
       "      <th>Class</th>\n",
       "      <th>scaled_amount</th>\n",
       "      <th>scaled_time</th>\n",
       "    </tr>\n",
       "  </thead>\n",
       "  <tbody>\n",
       "    <tr>\n",
       "      <th>117814</th>\n",
       "      <td>72411.0</td>\n",
       "      <td>0.222590</td>\n",
       "      <td>-1.238916</td>\n",
       "      <td>0.022264</td>\n",
       "      <td>1.902889</td>\n",
       "      <td>-0.739166</td>\n",
       "      <td>0.224873</td>\n",
       "      <td>0.320594</td>\n",
       "      <td>-0.015400</td>\n",
       "      <td>0.638668</td>\n",
       "      <td>...</td>\n",
       "      <td>-0.520191</td>\n",
       "      <td>0.066358</td>\n",
       "      <td>0.463742</td>\n",
       "      <td>-0.299118</td>\n",
       "      <td>0.006558</td>\n",
       "      <td>0.130806</td>\n",
       "      <td>471.63</td>\n",
       "      <td>0</td>\n",
       "      <td>6.293813</td>\n",
       "      <td>-0.144689</td>\n",
       "    </tr>\n",
       "    <tr>\n",
       "      <th>35897</th>\n",
       "      <td>163821.0</td>\n",
       "      <td>2.072694</td>\n",
       "      <td>-0.019852</td>\n",
       "      <td>-1.116642</td>\n",
       "      <td>0.377287</td>\n",
       "      <td>-0.029352</td>\n",
       "      <td>-1.118054</td>\n",
       "      <td>0.214408</td>\n",
       "      <td>-0.352921</td>\n",
       "      <td>0.478861</td>\n",
       "      <td>...</td>\n",
       "      <td>0.316048</td>\n",
       "      <td>-0.097205</td>\n",
       "      <td>-0.262504</td>\n",
       "      <td>0.203454</td>\n",
       "      <td>-0.067820</td>\n",
       "      <td>-0.060369</td>\n",
       "      <td>1.98</td>\n",
       "      <td>0</td>\n",
       "      <td>-0.280235</td>\n",
       "      <td>0.927462</td>\n",
       "    </tr>\n",
       "    <tr>\n",
       "      <th>36488</th>\n",
       "      <td>2893.0</td>\n",
       "      <td>-1.622210</td>\n",
       "      <td>-0.453055</td>\n",
       "      <td>0.950034</td>\n",
       "      <td>-0.278592</td>\n",
       "      <td>1.430375</td>\n",
       "      <td>-1.367408</td>\n",
       "      <td>0.144985</td>\n",
       "      <td>-0.121981</td>\n",
       "      <td>0.215440</td>\n",
       "      <td>...</td>\n",
       "      <td>0.285658</td>\n",
       "      <td>-0.087583</td>\n",
       "      <td>-0.826208</td>\n",
       "      <td>-0.198808</td>\n",
       "      <td>0.012548</td>\n",
       "      <td>0.157743</td>\n",
       "      <td>1.78</td>\n",
       "      <td>0</td>\n",
       "      <td>-0.283035</td>\n",
       "      <td>-0.960068</td>\n",
       "    </tr>\n",
       "    <tr>\n",
       "      <th>243400</th>\n",
       "      <td>120799.0</td>\n",
       "      <td>2.100859</td>\n",
       "      <td>-0.040931</td>\n",
       "      <td>-1.898974</td>\n",
       "      <td>0.446334</td>\n",
       "      <td>0.541394</td>\n",
       "      <td>-0.789385</td>\n",
       "      <td>0.423152</td>\n",
       "      <td>-0.306270</td>\n",
       "      <td>0.470164</td>\n",
       "      <td>...</td>\n",
       "      <td>0.070023</td>\n",
       "      <td>0.504320</td>\n",
       "      <td>0.251765</td>\n",
       "      <td>0.364214</td>\n",
       "      <td>-0.094034</td>\n",
       "      <td>-0.070514</td>\n",
       "      <td>10.92</td>\n",
       "      <td>0</td>\n",
       "      <td>-0.155095</td>\n",
       "      <td>0.422855</td>\n",
       "    </tr>\n",
       "    <tr>\n",
       "      <th>125479</th>\n",
       "      <td>124872.0</td>\n",
       "      <td>0.337604</td>\n",
       "      <td>-3.484022</td>\n",
       "      <td>-1.652439</td>\n",
       "      <td>-0.125336</td>\n",
       "      <td>-1.598151</td>\n",
       "      <td>-0.307795</td>\n",
       "      <td>0.506596</td>\n",
       "      <td>-0.214990</td>\n",
       "      <td>1.565995</td>\n",
       "      <td>...</td>\n",
       "      <td>-0.340718</td>\n",
       "      <td>0.684602</td>\n",
       "      <td>-0.979113</td>\n",
       "      <td>0.214015</td>\n",
       "      <td>-0.221021</td>\n",
       "      <td>0.112968</td>\n",
       "      <td>900.00</td>\n",
       "      <td>0</td>\n",
       "      <td>12.290034</td>\n",
       "      <td>0.470628</td>\n",
       "    </tr>\n",
       "  </tbody>\n",
       "</table>\n",
       "<p>5 rows × 33 columns</p>\n",
       "</div>"
      ],
      "text/plain": [
       "            Time        V1        V2        V3        V4        V5        V6  \\\n",
       "117814   72411.0  0.222590 -1.238916  0.022264  1.902889 -0.739166  0.224873   \n",
       "35897   163821.0  2.072694 -0.019852 -1.116642  0.377287 -0.029352 -1.118054   \n",
       "36488     2893.0 -1.622210 -0.453055  0.950034 -0.278592  1.430375 -1.367408   \n",
       "243400  120799.0  2.100859 -0.040931 -1.898974  0.446334  0.541394 -0.789385   \n",
       "125479  124872.0  0.337604 -3.484022 -1.652439 -0.125336 -1.598151 -0.307795   \n",
       "\n",
       "              V7        V8        V9     ...            V23       V24  \\\n",
       "117814  0.320594 -0.015400  0.638668     ...      -0.520191  0.066358   \n",
       "35897   0.214408 -0.352921  0.478861     ...       0.316048 -0.097205   \n",
       "36488   0.144985 -0.121981  0.215440     ...       0.285658 -0.087583   \n",
       "243400  0.423152 -0.306270  0.470164     ...       0.070023  0.504320   \n",
       "125479  0.506596 -0.214990  1.565995     ...      -0.340718  0.684602   \n",
       "\n",
       "             V25       V26       V27       V28  Amount  Class  scaled_amount  \\\n",
       "117814  0.463742 -0.299118  0.006558  0.130806  471.63      0       6.293813   \n",
       "35897  -0.262504  0.203454 -0.067820 -0.060369    1.98      0      -0.280235   \n",
       "36488  -0.826208 -0.198808  0.012548  0.157743    1.78      0      -0.283035   \n",
       "243400  0.251765  0.364214 -0.094034 -0.070514   10.92      0      -0.155095   \n",
       "125479 -0.979113  0.214015 -0.221021  0.112968  900.00      0      12.290034   \n",
       "\n",
       "        scaled_time  \n",
       "117814    -0.144689  \n",
       "35897      0.927462  \n",
       "36488     -0.960068  \n",
       "243400     0.422855  \n",
       "125479     0.470628  \n",
       "\n",
       "[5 rows x 33 columns]"
      ]
     },
     "execution_count": 79,
     "metadata": {},
     "output_type": "execute_result"
    }
   ],
   "source": [
    "df.head()"
   ]
  },
  {
   "cell_type": "code",
   "execution_count": 80,
   "metadata": {},
   "outputs": [],
   "source": [
    "tempdf =  pd.read_csv('creditcard_dataset.csv')"
   ]
  },
  {
   "cell_type": "markdown",
   "metadata": {},
   "source": [
    "### Checking for duplicate rows"
   ]
  },
  {
   "cell_type": "code",
   "execution_count": 81,
   "metadata": {},
   "outputs": [
    {
     "name": "stdout",
     "output_type": "stream",
     "text": [
      "Duplicate Rows except first occurrence based on all columns are :\n",
      "Empty DataFrame\n",
      "Columns: [id, Time, V1, V2, V3, V4, V5, V6, V7, V8, V9, V10, V11, V12, V13, V14, V15, V16, V17, V18, V19, V20, V21, V22, V23, V24, V25, V26, V27, V28, Amount, Class]\n",
      "Index: []\n",
      "\n",
      "[0 rows x 32 columns]\n"
     ]
    }
   ],
   "source": [
    "duplicateRowsDF = tempdf[tempdf.duplicated()]\n",
    " \n",
    "print(\"Duplicate Rows except first occurrence based on all columns are :\")\n",
    "print(duplicateRowsDF)"
   ]
  },
  {
   "cell_type": "code",
   "execution_count": 82,
   "metadata": {},
   "outputs": [
    {
     "name": "stdout",
     "output_type": "stream",
     "text": [
      "Duplicate Rows based on a single column are:\n",
      "            id      Time        V1        V2         V3        V4        V5  \\\n",
      "2529    134796   68780.0  0.488552 -0.922367   1.673494  3.003203 -1.465758   \n",
      "9192     65947  163152.0 -1.203617  1.574009   2.889277  3.381404  1.538663   \n",
      "10790   217727  159888.0 -3.146402  2.543688  -0.328957  2.499684 -0.112949   \n",
      "13777   126920   68780.0  0.416937 -1.040707   1.631927  3.033315 -1.502318   \n",
      "14019   162862   88759.0  1.918275  0.666212  -0.882650  3.500924  0.804717   \n",
      "15953   277551  112486.0 -3.681910 -1.509883  -1.617267  1.116832  2.645200   \n",
      "20750   127512  163152.0 -1.196037  1.585949   2.883976  3.378471  1.511706   \n",
      "22160    45075  120910.0  2.010962 -0.073225  -1.204314  0.436129  0.053113   \n",
      "23809   103346   31964.0  1.202754  0.395072   0.233037  1.237243 -0.012361   \n",
      "23903    61452   36541.0 -5.087717  3.095231   0.601791  0.744861 -0.998968   \n",
      "24988   275853  163152.0 -1.203617  1.574009   2.889277  3.381404  1.538663   \n",
      "27331   249773  124435.0 -2.024123  1.221097  -0.566898 -0.523898 -1.329838   \n",
      "27894   148064   71593.0  0.997959 -0.598804   0.545158 -0.592693 -0.099130   \n",
      "28625   232834   67191.0 -1.543204  1.506658   0.618416 -1.218753 -0.791304   \n",
      "30397   227847   72917.0 -2.727243 -1.952090   1.243363  1.539453  3.074675   \n",
      "30606    89636  166003.0 -1.673871  1.627549   1.058065  0.908494 -0.278230   \n",
      "30645   250648   74635.0  1.156176  0.227523   0.837322  1.171849 -0.598913   \n",
      "32078    48177   49561.0 -0.703708  2.912485   0.063735 -1.554630 -3.644603   \n",
      "32738   199335  117317.0  1.993679  0.224902  -2.797322  0.754497  2.077713   \n",
      "34062   225812   93853.0 -6.185857  7.102985 -13.030455  8.010823 -7.885237   \n",
      "35018    41938   60386.0  1.201015  0.267522   0.147939  1.321380 -0.044813   \n",
      "35605    44380  163152.0 -1.196037  1.585949   2.883976  3.378471  1.511706   \n",
      "35662   116058   80286.0 -4.622088  1.245684   0.449502  0.101333 -1.737052   \n",
      "36308    63878   72639.0 -1.887650  1.542000   0.893632  0.108776 -1.473483   \n",
      "36409     1186   68780.0  0.491469 -0.917547   1.675188  3.001976 -1.464269   \n",
      "38042   194192  169157.0  2.126109  0.573392  -3.701094  0.321675  1.653259   \n",
      "38645   253478   34700.0  1.107981 -0.197282   1.354658  0.800111 -1.102894   \n",
      "39176     4761  163152.0 -1.196037  1.585949   2.883976  3.378471  1.511706   \n",
      "40550   137354   24050.0  0.783460 -0.766538   1.331255  1.812482 -0.929991   \n",
      "40955   217868  138217.0 -0.752670  0.375043   1.816216 -0.667050  0.181250   \n",
      "...        ...       ...       ...       ...        ...       ...       ...   \n",
      "239148   94663  167291.0 -1.406672  0.711989   0.106209 -1.204020 -0.467783   \n",
      "239160   44362   99349.0  1.906516  0.363430  -0.045963  3.781534  0.462224   \n",
      "239601  187825  132234.0 -1.619943  2.606157   0.435562  3.477395 -0.828810   \n",
      "239934  150641  143885.0 -1.263598 -0.791177  -1.278136  1.501414  0.677535   \n",
      "240009   46150   36590.0 -2.665218  1.916410   0.762844  0.120042 -1.704674   \n",
      "240452   66045   31804.0 -1.783888  1.245670   2.097173  1.031059 -0.793755   \n",
      "240559  273097   64947.0 -6.327870  3.373477   1.695209 -1.606061  0.023487   \n",
      "240696  130741   79817.0 -1.452766  0.714297   1.494422  1.637165 -0.770049   \n",
      "240871  116659  162766.0  2.136613  0.378334  -2.571323  1.128116  1.180867   \n",
      "240884  143436  142583.0 -2.160464  1.537612   0.334202 -0.655203 -1.213944   \n",
      "241323  197329   33619.0  1.163253 -0.014139   1.272299  1.420947 -0.926893   \n",
      "241428   51804   70626.0 -1.070510  1.302475   0.805580  0.321547 -0.702936   \n",
      "241542    5487  143885.0 -1.338601 -0.909305  -1.225687  1.530437  0.944252   \n",
      "241582  119089   38958.0 -2.274330  1.154851   1.342452  0.219277 -0.591847   \n",
      "241611  153079   31964.0  1.202754  0.395072   0.233037  1.237243 -0.012361   \n",
      "241763  104859   73201.0 -1.449902  1.774896   1.672723  2.917956 -0.870898   \n",
      "242271   34952    2866.0  1.010472 -0.147709   0.544611  0.709368  0.075302   \n",
      "242288   49837   67309.0  0.963638 -0.405863   1.043330  1.572969 -0.573098   \n",
      "242316  126357  162766.0  2.136613  0.378334  -2.571323  1.128116  1.180867   \n",
      "242499   33187   37872.0  1.268617 -0.080302   0.172915 -0.013128 -0.136541   \n",
      "242507   12190   43572.0 -3.003668  2.246240   1.181428  1.229191 -1.075954   \n",
      "243194  243704  122479.0 -1.042109 -1.405168  -0.058408 -2.483895  2.244787   \n",
      "243273  207448  149041.0 -1.627267  2.793023  -2.228526 -1.198766 -1.888855   \n",
      "243353   59819   83753.0  1.027614 -0.423542   1.181828  0.732695 -0.944257   \n",
      "243620  160255   41550.0  1.190841  0.319915   0.878937  1.311475 -0.669338   \n",
      "243796  281496    2270.0 -2.171193  1.521296   0.698043  1.480960 -1.096511   \n",
      "244288   38954   82088.0 -1.961767  3.469548  -1.500783 -1.790021 -5.040713   \n",
      "244483  114985   30414.0  1.236855 -0.263186   0.345918 -0.742708 -0.769875   \n",
      "244614  243150   94084.0 -0.714893  1.973891  -1.141240  0.129007  1.342501   \n",
      "244635   15325  124435.0 -2.028558  1.214111  -0.563796 -0.522181 -1.314065   \n",
      "\n",
      "              V6         V7         V8  ...         V21       V22       V23  \\\n",
      "2529    0.749788  -0.700551   0.383919  ...    0.371627  0.606800 -0.222559   \n",
      "9192    3.698747   0.560211  -0.150911  ...   -0.366727  0.522223 -0.357329   \n",
      "10790   0.959888  -0.501032   0.632631  ...    0.311103  0.809607  0.085183   \n",
      "13777   0.763129  -0.651360   0.374298  ...    0.394089  0.587234 -0.255233   \n",
      "14019   0.227267   0.239886  -0.045002  ...    0.285792  0.806553  0.080496   \n",
      "15953  -1.239374   1.431360  -0.649071  ...   -0.512607  0.847610  1.587441   \n",
      "20750   3.717077   0.585362  -0.156001  ...   -0.370294  0.524395 -0.355170   \n",
      "22160  -1.068571   0.352396  -0.421712  ...   -0.223706 -0.472989  0.220502   \n",
      "23809  -0.508524   0.279064  -0.146587  ...    0.026782  0.258716 -0.169719   \n",
      "23903   0.786442   0.271718  -0.476356  ...   -0.693574 -0.689782  0.097019   \n",
      "24988   3.698747   0.560211  -0.150911  ...   -0.366727  0.522223 -0.357329   \n",
      "27331  -0.188252  -1.316735   1.838170  ...    0.572283  1.031646  0.013793   \n",
      "27894   1.625044  -0.896222   0.709242  ...    0.032781  0.083897  0.194402   \n",
      "28625  -0.997546   0.198505   0.847420  ...   -0.081800 -0.364059  0.166117   \n",
      "30397  -1.863299  -0.877170   0.069902  ...    0.091655 -0.140989 -0.071333   \n",
      "30606   0.579049  -0.214513   1.180600  ...   -0.467535 -1.239387 -0.129659   \n",
      "30645  -0.530667  -0.195203   0.041655  ...   -0.017561 -0.085913  0.051171   \n",
      "32078   1.042646   3.035901   0.221483  ...   -0.462617 -0.028653  0.385422   \n",
      "32738   0.918359   0.699589   0.061869  ...    0.381811  1.340779 -0.198852   \n",
      "34062  -3.974550 -12.229608   4.971232  ...    2.502772  0.481691  0.480958   \n",
      "35018  -0.407308   0.182624  -0.053372  ...   -0.017742  0.114257 -0.105915   \n",
      "35605   3.717077   0.585362  -0.156001  ...   -0.370294  0.524395 -0.355170   \n",
      "35662   0.200242  -0.855491   1.232774  ...   -0.147075 -0.009457 -0.156723   \n",
      "36308   0.172314  -1.241400   1.435430  ...    0.226097  0.097444  0.038813   \n",
      "36409   0.749245  -0.702555   0.384311  ...    0.370712  0.607597 -0.221228   \n",
      "38042  -1.270294   0.961208  -0.364562  ...    0.170258  0.628076 -0.301191   \n",
      "38645  -0.088586  -0.678751   0.176166  ...   -0.015908  0.115613  0.030597   \n",
      "39176   3.717077   0.585362  -0.156001  ...   -0.370294  0.524395 -0.355170   \n",
      "40550   1.318111  -0.979965   0.472786  ...    0.027365  0.410787 -0.294227   \n",
      "40955  -0.517146   0.688305  -0.360454  ...    0.077695  0.885587 -0.317941   \n",
      "...          ...        ...        ...  ...         ...       ...       ...   \n",
      "239148 -1.118561   0.141706   0.419754  ...    0.195353  0.092130 -0.338870   \n",
      "239160  1.270065  -0.641963   0.156308  ...   -0.016357  0.303043  0.122517   \n",
      "239601  2.602139  -4.647154 -10.212223  ...   -4.792316  2.342932  0.518027   \n",
      "239934  0.847846  -0.924025   1.188718  ...    0.047057 -0.251535 -0.062641   \n",
      "240009 -0.053404  -1.335389   1.893715  ...    0.043868 -0.178695 -0.093431   \n",
      "240452  0.566460  -0.403512   0.625924  ...   -0.054154 -0.029875 -0.094100   \n",
      "240559  0.335386   3.109186  -3.449599  ...   -1.634373  0.399711 -0.352190   \n",
      "240696  1.460804  -0.994385   1.519558  ...   -0.119586 -0.275174  0.078136   \n",
      "240871 -1.088291   0.995385  -0.488318  ...    0.265766  0.898564 -0.214155   \n",
      "240884 -0.389445  -0.795466   1.496821  ...    0.337539  0.905852 -0.184677   \n",
      "241323 -0.121972  -0.519157   0.093523  ...   -0.180902 -0.219039  0.020564   \n",
      "241428 -0.696886  -0.075313   0.733374  ...   -0.036945 -0.297582 -0.009688   \n",
      "241542  0.666483  -1.172872   1.239076  ...    0.082352 -0.273018 -0.084006   \n",
      "241582 -0.633915  -0.045868   0.850424  ...    0.200840 -0.116708 -0.330292   \n",
      "241611 -0.508524   0.279064  -0.146587  ...    0.026782  0.258716 -0.169719   \n",
      "241763  0.233351  -0.620982   0.984919  ...    0.084068 -0.202115  0.116653   \n",
      "242271  1.129406  -0.350414   0.446698  ...   -0.088707  0.057784  0.176753   \n",
      "242288  1.121620  -0.604445   0.462305  ...   -0.359842 -0.726014 -0.007545   \n",
      "242316 -1.088291   0.995385  -0.488318  ...    0.265766  0.898564 -0.214155   \n",
      "242499 -0.019055  -0.135780  -0.010602  ...   -0.247396 -0.534383 -0.086727   \n",
      "242507  0.686363  -0.389936   0.843656  ...   -0.594922 -0.637845  0.012100   \n",
      "243194  0.415584   1.285391  -0.845543  ...    0.198926  1.658039  0.385463   \n",
      "243273 -0.031946   0.710598   1.488931  ...   -0.181904 -0.192823  0.273733   \n",
      "243353  0.488845  -0.809057   0.391745  ...    0.000096  0.077683  0.026361   \n",
      "243620 -0.913096  -0.053629  -0.143443  ...   -0.055103 -0.132371  0.072402   \n",
      "243796  1.118980  -1.113668   1.813105  ...   -0.375000 -0.810854 -0.067813   \n",
      "244288  2.142282   2.976389   1.157866  ...   -0.598608 -0.212048  0.268637   \n",
      "244483 -0.994078  -0.046605  -0.240839  ...   -0.040771  0.252704 -0.181397   \n",
      "244614 -0.959324   1.418612  -0.396884  ...   -0.041208  0.304788 -0.222557   \n",
      "244635 -0.198977  -1.331451   1.841148  ...    0.574371  1.030375  0.012530   \n",
      "\n",
      "             V24       V25       V26       V27       V28  Amount  Class  \n",
      "2529    0.405858  0.080003  0.148637  0.022034  0.087126  282.98      0  \n",
      "9192   -0.870174 -0.134166  0.327019 -0.042648 -0.855262    1.51      0  \n",
      "10790   0.212830 -0.312526 -0.248380 -2.731440 -0.754864    0.00      0  \n",
      "13777   0.407760  0.066392  0.144683  0.015030  0.093581  320.05      0  \n",
      "14019   0.776151  0.140577  0.073627 -0.048779 -0.053122    3.02      0  \n",
      "15953   0.607802  0.285113 -0.631121 -0.359813  0.970322   25.19      0  \n",
      "20750  -0.869790 -0.133198  0.327804 -0.035702 -0.858197    7.56      0  \n",
      "22160  -0.055763 -0.138950  0.275234 -0.070382 -0.056148   35.15      0  \n",
      "23809   0.386205  0.845610 -0.281712  0.012573  0.005457    1.00      0  \n",
      "23903   0.013914  0.064819 -0.611946 -0.816933  1.079681   23.62      0  \n",
      "24988  -0.870174 -0.134166  0.327019 -0.042648 -0.855262    1.51      0  \n",
      "27331  -0.360175 -0.923678  0.449279 -0.700833 -0.098528   14.22      0  \n",
      "27894  -1.296244 -0.403564  1.366545 -0.029489 -0.013626   39.99      0  \n",
      "28625   0.424053 -0.344567  0.676108  0.129085  0.100676   34.95      0  \n",
      "30397  -0.442669  0.905633 -0.101792 -0.334534  0.631621    1.18      0  \n",
      "30606  -0.528035  0.510951 -0.767543  0.209835  0.054771    6.43      0  \n",
      "30645   0.509477  0.344671 -0.507915  0.028477  0.022740    3.60      0  \n",
      "32078   0.498719 -0.199048  0.758942  0.903759 -0.221492  699.00      0  \n",
      "32738  -0.898293  0.743961 -0.113162 -0.014030 -0.100191    1.00      0  \n",
      "34062   0.360319 -0.293354 -0.199193 -0.203917  0.398927   44.90      1  \n",
      "35018   0.081833  0.741874 -0.228703  0.021155  0.008398    1.00      0  \n",
      "35605  -0.869790 -0.133198  0.327804 -0.035702 -0.858197    7.56      0  \n",
      "35662   0.029912  0.178519  0.089500 -2.837041 -1.069945   11.00      0  \n",
      "36308   0.012689 -0.182013  0.218880 -1.033521 -0.167513    3.33      0  \n",
      "36409   0.405781  0.080558  0.148798  0.022320  0.086863  281.47      0  \n",
      "38042   0.021081  0.922185 -0.210341 -0.040925 -0.041092    1.00      0  \n",
      "38645   0.584963  0.209817  0.284387  0.014954  0.021601   17.39      0  \n",
      "39176  -0.869790 -0.133198  0.327804 -0.035702 -0.858197    7.56      0  \n",
      "40550  -0.325263  0.518533 -0.140764  0.042981  0.031839  150.00      0  \n",
      "40955   0.106378 -0.066000  0.579651  0.114979 -0.141167   32.30      0  \n",
      "...          ...       ...       ...       ...       ...     ...    ...  \n",
      "239148  0.041360  0.629332 -0.025193 -0.338721 -0.148000   50.00      0  \n",
      "239160 -0.153275 -0.125454  0.005957 -0.010140 -0.035628   16.34      0  \n",
      "239601 -0.077433  0.315683  0.165119  0.049758  0.395228   19.27      0  \n",
      "239934 -1.337471 -0.469992  0.794308 -0.385936 -0.643292   66.12      0  \n",
      "240009 -0.115553  0.421131  0.387868 -0.350560 -0.104274    8.46      0  \n",
      "240452  0.056197  0.116731 -0.403204 -1.117816 -0.466715    1.00      0  \n",
      "240559  0.482383  0.160342 -0.530889 -4.748881 -3.713108   46.32      0  \n",
      "240696 -0.308839 -0.507904 -0.434369 -0.131303 -0.029504   17.45      0  \n",
      "240871  0.499010  0.912005 -0.209195 -0.064427 -0.077033    1.00      0  \n",
      "240884  0.139691  0.042131  0.619293  0.185380  0.089820   18.49      0  \n",
      "241323  0.398989  0.448507 -0.456745  0.075666  0.035279    1.00      0  \n",
      "241428  0.430013  0.054583  0.212003 -0.400774 -0.101526    5.54      0  \n",
      "241542 -1.341274 -0.479568  0.786536 -0.454665 -0.614248    6.26      0  \n",
      "241582  0.506872  0.328186 -0.644623 -0.642624 -0.099165    3.60      0  \n",
      "241611  0.386205  0.845610 -0.281712  0.012573  0.005457    1.00      0  \n",
      "241763  0.365147 -0.155956  0.064998 -0.616274 -0.089780    2.28      0  \n",
      "242271 -0.607596  0.088825  0.377510  0.047599  0.002166   12.83      0  \n",
      "242288 -0.308965  0.407974 -0.510794  0.075088  0.023061   60.36      0  \n",
      "242316  0.499010  0.912005 -0.209195 -0.064427 -0.077033    1.00      0  \n",
      "242499 -0.405027  0.423190  0.941320 -0.071161 -0.013090   10.98      0  \n",
      "242507  0.037525  0.271754 -0.416295  0.288648  0.149937    6.64      0  \n",
      "243194 -1.599866 -0.486913 -0.261441 -0.842093 -0.454102   40.00      0  \n",
      "243273  0.752479  0.312936 -0.109611  0.317984 -0.188533  289.00      0  \n",
      "243353  0.048218  0.114338  0.327540  0.018161  0.018226   43.85      0  \n",
      "243620  0.700059  0.376365 -0.499833  0.035923  0.035300    3.60      0  \n",
      "243796 -0.794218  0.187682 -0.302539  0.290137  0.070180   21.97      0  \n",
      "244288 -0.221158 -0.065224  0.821537  1.178380 -0.465724  936.39      0  \n",
      "244483  0.448643  0.866877 -0.642149  0.074883  0.026197   22.53      0  \n",
      "244614  0.476280  0.534961 -0.542891  0.240352  0.240390    1.50      0  \n",
      "244635 -0.360400 -0.924244  0.448819 -0.704898 -0.096811   10.68      0  \n",
      "\n",
      "[836 rows x 32 columns]\n"
     ]
    }
   ],
   "source": [
    "# Select all duplicate rows based on all column except id\n",
    "duplicateRowsDF = tempdf[tempdf.duplicated(['Time','V1','V2','V3','V4','V5','V6','V7','V8','V9',\n",
    "            'V10','V11','V12','V13','V14','V15','V16','V17','V18','V19','V20','V21','V22',\n",
    "           'V23','V24','V25','V26','V27','V28','Amount'])]\n",
    " \n",
    "print(\"Duplicate Rows based on a all column are:\", duplicateRowsDF, sep='\\n')"
   ]
  },
  {
   "cell_type": "code",
   "execution_count": 85,
   "metadata": {},
   "outputs": [
    {
     "name": "stdout",
     "output_type": "stream",
     "text": [
      "Distribution of the Classes in the original dataset\n",
      "0    0.998276\n",
      "1    0.001724\n",
      "Name: Class, dtype: float64\n"
     ]
    },
    {
     "data": {
      "image/png": "[encoded data removed]",
      "text/plain": [
       "<Figure size 432x288 with 1 Axes>"
      ]
     },
     "metadata": {
      "needs_background": "light"
     },
     "output_type": "display_data"
    }
   ],
   "source": [
    "print('Distribution of the Classes in the original dataset')\n",
    "print(tempdf['Class'].value_counts()/len(df))\n",
    "sns.countplot('Class', data=tempdf)\n",
    "plt.pyplot.title('Distribution of Classes', fontsize=14)\n",
    "plt.pyplot.show()"
   ]
  },
  {
   "cell_type": "code",
   "execution_count": 5,
   "metadata": {},
   "outputs": [
    {
     "data": {
      "text/plain": [
       "False"
      ]
     },
     "execution_count": 5,
     "metadata": {},
     "output_type": "execute_result"
    }
   ],
   "source": [
    "# Check for null values\n",
    "df.isnull().values.any()"
   ]
  },
  {
   "cell_type": "code",
   "execution_count": 6,
   "metadata": {},
   "outputs": [],
   "source": [
    "# Drop 'id' column in the dataframe\n",
    "df = df.drop(['id'], axis=1)"
   ]
  },
  {
   "cell_type": "code",
   "execution_count": 7,
   "metadata": {},
   "outputs": [
    {
     "data": {
      "text/html": [
       "<div>\n",
       "<style scoped>\n",
       "    .dataframe tbody tr th:only-of-type {\n",
       "        vertical-align: middle;\n",
       "    }\n",
       "\n",
       "    .dataframe tbody tr th {\n",
       "        vertical-align: top;\n",
       "    }\n",
       "\n",
       "    .dataframe thead th {\n",
       "        text-align: right;\n",
       "    }\n",
       "</style>\n",
       "<table border=\"1\" class=\"dataframe\">\n",
       "  <thead>\n",
       "    <tr style=\"text-align: right;\">\n",
       "      <th></th>\n",
       "      <th>Time</th>\n",
       "      <th>V1</th>\n",
       "      <th>V2</th>\n",
       "      <th>V3</th>\n",
       "      <th>V4</th>\n",
       "      <th>V5</th>\n",
       "      <th>V6</th>\n",
       "      <th>V7</th>\n",
       "      <th>V8</th>\n",
       "      <th>V9</th>\n",
       "      <th>...</th>\n",
       "      <th>V21</th>\n",
       "      <th>V22</th>\n",
       "      <th>V23</th>\n",
       "      <th>V24</th>\n",
       "      <th>V25</th>\n",
       "      <th>V26</th>\n",
       "      <th>V27</th>\n",
       "      <th>V28</th>\n",
       "      <th>Amount</th>\n",
       "      <th>Class</th>\n",
       "    </tr>\n",
       "  </thead>\n",
       "  <tbody>\n",
       "    <tr>\n",
       "      <th>0</th>\n",
       "      <td>58670.0</td>\n",
       "      <td>-0.854092</td>\n",
       "      <td>0.644458</td>\n",
       "      <td>1.805656</td>\n",
       "      <td>1.146369</td>\n",
       "      <td>-0.519127</td>\n",
       "      <td>1.844676</td>\n",
       "      <td>-0.935942</td>\n",
       "      <td>1.056104</td>\n",
       "      <td>0.097375</td>\n",
       "      <td>...</td>\n",
       "      <td>0.193673</td>\n",
       "      <td>0.789467</td>\n",
       "      <td>0.218834</td>\n",
       "      <td>-0.577043</td>\n",
       "      <td>-0.727521</td>\n",
       "      <td>0.612977</td>\n",
       "      <td>-0.219109</td>\n",
       "      <td>-0.063157</td>\n",
       "      <td>11.50</td>\n",
       "      <td>0</td>\n",
       "    </tr>\n",
       "    <tr>\n",
       "      <th>1</th>\n",
       "      <td>164361.0</td>\n",
       "      <td>-0.863534</td>\n",
       "      <td>0.291699</td>\n",
       "      <td>0.594479</td>\n",
       "      <td>-1.190707</td>\n",
       "      <td>0.117851</td>\n",
       "      <td>0.169880</td>\n",
       "      <td>0.065587</td>\n",
       "      <td>0.289947</td>\n",
       "      <td>-1.748278</td>\n",
       "      <td>...</td>\n",
       "      <td>-0.223345</td>\n",
       "      <td>-0.333300</td>\n",
       "      <td>-0.455269</td>\n",
       "      <td>0.185385</td>\n",
       "      <td>0.432974</td>\n",
       "      <td>0.931127</td>\n",
       "      <td>-0.414413</td>\n",
       "      <td>-0.284978</td>\n",
       "      <td>25.42</td>\n",
       "      <td>0</td>\n",
       "    </tr>\n",
       "    <tr>\n",
       "      <th>2</th>\n",
       "      <td>38767.0</td>\n",
       "      <td>-1.192107</td>\n",
       "      <td>-0.896044</td>\n",
       "      <td>1.204410</td>\n",
       "      <td>-1.593935</td>\n",
       "      <td>0.432699</td>\n",
       "      <td>-1.101769</td>\n",
       "      <td>-0.299815</td>\n",
       "      <td>0.222793</td>\n",
       "      <td>-1.320361</td>\n",
       "      <td>...</td>\n",
       "      <td>0.470749</td>\n",
       "      <td>0.932440</td>\n",
       "      <td>0.159099</td>\n",
       "      <td>0.215700</td>\n",
       "      <td>-0.169315</td>\n",
       "      <td>-0.320951</td>\n",
       "      <td>0.310243</td>\n",
       "      <td>0.210535</td>\n",
       "      <td>58.75</td>\n",
       "      <td>0</td>\n",
       "    </tr>\n",
       "    <tr>\n",
       "      <th>3</th>\n",
       "      <td>571.0</td>\n",
       "      <td>-2.355336</td>\n",
       "      <td>2.316182</td>\n",
       "      <td>0.701735</td>\n",
       "      <td>0.174501</td>\n",
       "      <td>0.677346</td>\n",
       "      <td>1.029705</td>\n",
       "      <td>0.792868</td>\n",
       "      <td>-0.060581</td>\n",
       "      <td>1.296525</td>\n",
       "      <td>...</td>\n",
       "      <td>0.008872</td>\n",
       "      <td>0.955806</td>\n",
       "      <td>0.047292</td>\n",
       "      <td>-0.650140</td>\n",
       "      <td>-0.282282</td>\n",
       "      <td>-0.286391</td>\n",
       "      <td>0.335493</td>\n",
       "      <td>0.223061</td>\n",
       "      <td>2.89</td>\n",
       "      <td>0</td>\n",
       "    </tr>\n",
       "    <tr>\n",
       "      <th>4</th>\n",
       "      <td>51507.0</td>\n",
       "      <td>-1.302336</td>\n",
       "      <td>1.016359</td>\n",
       "      <td>1.007046</td>\n",
       "      <td>-0.127051</td>\n",
       "      <td>0.435740</td>\n",
       "      <td>-0.092143</td>\n",
       "      <td>0.709650</td>\n",
       "      <td>0.590142</td>\n",
       "      <td>-1.088295</td>\n",
       "      <td>...</td>\n",
       "      <td>0.150091</td>\n",
       "      <td>0.059446</td>\n",
       "      <td>-0.262177</td>\n",
       "      <td>-0.354871</td>\n",
       "      <td>0.680078</td>\n",
       "      <td>-0.402172</td>\n",
       "      <td>-0.111834</td>\n",
       "      <td>-0.044427</td>\n",
       "      <td>51.59</td>\n",
       "      <td>0</td>\n",
       "    </tr>\n",
       "  </tbody>\n",
       "</table>\n",
       "<p>5 rows × 31 columns</p>\n",
       "</div>"
      ],
      "text/plain": [
       "       Time        V1        V2        V3        V4        V5        V6  \\\n",
       "0   58670.0 -0.854092  0.644458  1.805656  1.146369 -0.519127  1.844676   \n",
       "1  164361.0 -0.863534  0.291699  0.594479 -1.190707  0.117851  0.169880   \n",
       "2   38767.0 -1.192107 -0.896044  1.204410 -1.593935  0.432699 -1.101769   \n",
       "3     571.0 -2.355336  2.316182  0.701735  0.174501  0.677346  1.029705   \n",
       "4   51507.0 -1.302336  1.016359  1.007046 -0.127051  0.435740 -0.092143   \n",
       "\n",
       "         V7        V8        V9  ...         V21       V22       V23  \\\n",
       "0 -0.935942  1.056104  0.097375  ...    0.193673  0.789467  0.218834   \n",
       "1  0.065587  0.289947 -1.748278  ...   -0.223345 -0.333300 -0.455269   \n",
       "2 -0.299815  0.222793 -1.320361  ...    0.470749  0.932440  0.159099   \n",
       "3  0.792868 -0.060581  1.296525  ...    0.008872  0.955806  0.047292   \n",
       "4  0.709650  0.590142 -1.088295  ...    0.150091  0.059446 -0.262177   \n",
       "\n",
       "        V24       V25       V26       V27       V28  Amount  Class  \n",
       "0 -0.577043 -0.727521  0.612977 -0.219109 -0.063157   11.50      0  \n",
       "1  0.185385  0.432974  0.931127 -0.414413 -0.284978   25.42      0  \n",
       "2  0.215700 -0.169315 -0.320951  0.310243  0.210535   58.75      0  \n",
       "3 -0.650140 -0.282282 -0.286391  0.335493  0.223061    2.89      0  \n",
       "4 -0.354871  0.680078 -0.402172 -0.111834 -0.044427   51.59      0  \n",
       "\n",
       "[5 rows x 31 columns]"
      ]
     },
     "execution_count": 7,
     "metadata": {},
     "output_type": "execute_result"
    }
   ],
   "source": [
    "df.head()"
   ]
  },
  {
   "cell_type": "code",
   "execution_count": 8,
   "metadata": {},
   "outputs": [],
   "source": [
    "# Create two columns called as 'scaled_time' and 'scaled_amount'\n",
    "# RobustScaler is less prone to outliers.\n",
    "std_scaler = StandardScaler()\n",
    "rob_scaler = RobustScaler()\n",
    "df['scaled_amount'] = rob_scaler.fit_transform(df['Amount'].values.reshape(-1,1))\n",
    "df['scaled_time'] = rob_scaler.fit_transform(df['Time'].values.reshape(-1,1))"
   ]
  },
  {
   "cell_type": "code",
   "execution_count": 9,
   "metadata": {},
   "outputs": [
    {
     "data": {
      "text/html": [
       "<div>\n",
       "<style scoped>\n",
       "    .dataframe tbody tr th:only-of-type {\n",
       "        vertical-align: middle;\n",
       "    }\n",
       "\n",
       "    .dataframe tbody tr th {\n",
       "        vertical-align: top;\n",
       "    }\n",
       "\n",
       "    .dataframe thead th {\n",
       "        text-align: right;\n",
       "    }\n",
       "</style>\n",
       "<table border=\"1\" class=\"dataframe\">\n",
       "  <thead>\n",
       "    <tr style=\"text-align: right;\">\n",
       "      <th></th>\n",
       "      <th>Time</th>\n",
       "      <th>V1</th>\n",
       "      <th>V2</th>\n",
       "      <th>V3</th>\n",
       "      <th>V4</th>\n",
       "      <th>V5</th>\n",
       "      <th>V6</th>\n",
       "      <th>V7</th>\n",
       "      <th>V8</th>\n",
       "      <th>V9</th>\n",
       "      <th>...</th>\n",
       "      <th>V23</th>\n",
       "      <th>V24</th>\n",
       "      <th>V25</th>\n",
       "      <th>V26</th>\n",
       "      <th>V27</th>\n",
       "      <th>V28</th>\n",
       "      <th>Amount</th>\n",
       "      <th>Class</th>\n",
       "      <th>scaled_amount</th>\n",
       "      <th>scaled_time</th>\n",
       "    </tr>\n",
       "  </thead>\n",
       "  <tbody>\n",
       "    <tr>\n",
       "      <th>0</th>\n",
       "      <td>58670.0</td>\n",
       "      <td>-0.854092</td>\n",
       "      <td>0.644458</td>\n",
       "      <td>1.805656</td>\n",
       "      <td>1.146369</td>\n",
       "      <td>-0.519127</td>\n",
       "      <td>1.844676</td>\n",
       "      <td>-0.935942</td>\n",
       "      <td>1.056104</td>\n",
       "      <td>0.097375</td>\n",
       "      <td>...</td>\n",
       "      <td>0.218834</td>\n",
       "      <td>-0.577043</td>\n",
       "      <td>-0.727521</td>\n",
       "      <td>0.612977</td>\n",
       "      <td>-0.219109</td>\n",
       "      <td>-0.063157</td>\n",
       "      <td>11.50</td>\n",
       "      <td>0</td>\n",
       "      <td>-0.146976</td>\n",
       "      <td>-0.305858</td>\n",
       "    </tr>\n",
       "    <tr>\n",
       "      <th>1</th>\n",
       "      <td>164361.0</td>\n",
       "      <td>-0.863534</td>\n",
       "      <td>0.291699</td>\n",
       "      <td>0.594479</td>\n",
       "      <td>-1.190707</td>\n",
       "      <td>0.117851</td>\n",
       "      <td>0.169880</td>\n",
       "      <td>0.065587</td>\n",
       "      <td>0.289947</td>\n",
       "      <td>-1.748278</td>\n",
       "      <td>...</td>\n",
       "      <td>-0.455269</td>\n",
       "      <td>0.185385</td>\n",
       "      <td>0.432974</td>\n",
       "      <td>0.931127</td>\n",
       "      <td>-0.414413</td>\n",
       "      <td>-0.284978</td>\n",
       "      <td>25.42</td>\n",
       "      <td>0</td>\n",
       "      <td>0.047872</td>\n",
       "      <td>0.933795</td>\n",
       "    </tr>\n",
       "    <tr>\n",
       "      <th>2</th>\n",
       "      <td>38767.0</td>\n",
       "      <td>-1.192107</td>\n",
       "      <td>-0.896044</td>\n",
       "      <td>1.204410</td>\n",
       "      <td>-1.593935</td>\n",
       "      <td>0.432699</td>\n",
       "      <td>-1.101769</td>\n",
       "      <td>-0.299815</td>\n",
       "      <td>0.222793</td>\n",
       "      <td>-1.320361</td>\n",
       "      <td>...</td>\n",
       "      <td>0.159099</td>\n",
       "      <td>0.215700</td>\n",
       "      <td>-0.169315</td>\n",
       "      <td>-0.320951</td>\n",
       "      <td>0.310243</td>\n",
       "      <td>0.210535</td>\n",
       "      <td>58.75</td>\n",
       "      <td>0</td>\n",
       "      <td>0.514418</td>\n",
       "      <td>-0.539301</td>\n",
       "    </tr>\n",
       "    <tr>\n",
       "      <th>3</th>\n",
       "      <td>571.0</td>\n",
       "      <td>-2.355336</td>\n",
       "      <td>2.316182</td>\n",
       "      <td>0.701735</td>\n",
       "      <td>0.174501</td>\n",
       "      <td>0.677346</td>\n",
       "      <td>1.029705</td>\n",
       "      <td>0.792868</td>\n",
       "      <td>-0.060581</td>\n",
       "      <td>1.296525</td>\n",
       "      <td>...</td>\n",
       "      <td>0.047292</td>\n",
       "      <td>-0.650140</td>\n",
       "      <td>-0.282282</td>\n",
       "      <td>-0.286391</td>\n",
       "      <td>0.335493</td>\n",
       "      <td>0.223061</td>\n",
       "      <td>2.89</td>\n",
       "      <td>0</td>\n",
       "      <td>-0.267497</td>\n",
       "      <td>-0.987303</td>\n",
       "    </tr>\n",
       "    <tr>\n",
       "      <th>4</th>\n",
       "      <td>51507.0</td>\n",
       "      <td>-1.302336</td>\n",
       "      <td>1.016359</td>\n",
       "      <td>1.007046</td>\n",
       "      <td>-0.127051</td>\n",
       "      <td>0.435740</td>\n",
       "      <td>-0.092143</td>\n",
       "      <td>0.709650</td>\n",
       "      <td>0.590142</td>\n",
       "      <td>-1.088295</td>\n",
       "      <td>...</td>\n",
       "      <td>-0.262177</td>\n",
       "      <td>-0.354871</td>\n",
       "      <td>0.680078</td>\n",
       "      <td>-0.402172</td>\n",
       "      <td>-0.111834</td>\n",
       "      <td>-0.044427</td>\n",
       "      <td>51.59</td>\n",
       "      <td>0</td>\n",
       "      <td>0.414194</td>\n",
       "      <td>-0.389873</td>\n",
       "    </tr>\n",
       "  </tbody>\n",
       "</table>\n",
       "<p>5 rows × 33 columns</p>\n",
       "</div>"
      ],
      "text/plain": [
       "       Time        V1        V2        V3        V4        V5        V6  \\\n",
       "0   58670.0 -0.854092  0.644458  1.805656  1.146369 -0.519127  1.844676   \n",
       "1  164361.0 -0.863534  0.291699  0.594479 -1.190707  0.117851  0.169880   \n",
       "2   38767.0 -1.192107 -0.896044  1.204410 -1.593935  0.432699 -1.101769   \n",
       "3     571.0 -2.355336  2.316182  0.701735  0.174501  0.677346  1.029705   \n",
       "4   51507.0 -1.302336  1.016359  1.007046 -0.127051  0.435740 -0.092143   \n",
       "\n",
       "         V7        V8        V9     ...            V23       V24       V25  \\\n",
       "0 -0.935942  1.056104  0.097375     ...       0.218834 -0.577043 -0.727521   \n",
       "1  0.065587  0.289947 -1.748278     ...      -0.455269  0.185385  0.432974   \n",
       "2 -0.299815  0.222793 -1.320361     ...       0.159099  0.215700 -0.169315   \n",
       "3  0.792868 -0.060581  1.296525     ...       0.047292 -0.650140 -0.282282   \n",
       "4  0.709650  0.590142 -1.088295     ...      -0.262177 -0.354871  0.680078   \n",
       "\n",
       "        V26       V27       V28  Amount  Class  scaled_amount  scaled_time  \n",
       "0  0.612977 -0.219109 -0.063157   11.50      0      -0.146976    -0.305858  \n",
       "1  0.931127 -0.414413 -0.284978   25.42      0       0.047872     0.933795  \n",
       "2 -0.320951  0.310243  0.210535   58.75      0       0.514418    -0.539301  \n",
       "3 -0.286391  0.335493  0.223061    2.89      0      -0.267497    -0.987303  \n",
       "4 -0.402172 -0.111834 -0.044427   51.59      0       0.414194    -0.389873  \n",
       "\n",
       "[5 rows x 33 columns]"
      ]
     },
     "execution_count": 9,
     "metadata": {},
     "output_type": "execute_result"
    }
   ],
   "source": [
    "df.head()"
   ]
  },
  {
   "cell_type": "code",
   "execution_count": 10,
   "metadata": {},
   "outputs": [
    {
     "data": {
      "text/html": [
       "<div>\n",
       "<style scoped>\n",
       "    .dataframe tbody tr th:only-of-type {\n",
       "        vertical-align: middle;\n",
       "    }\n",
       "\n",
       "    .dataframe tbody tr th {\n",
       "        vertical-align: top;\n",
       "    }\n",
       "\n",
       "    .dataframe thead th {\n",
       "        text-align: right;\n",
       "    }\n",
       "</style>\n",
       "<table border=\"1\" class=\"dataframe\">\n",
       "  <thead>\n",
       "    <tr style=\"text-align: right;\">\n",
       "      <th></th>\n",
       "      <th>id</th>\n",
       "      <th>Time</th>\n",
       "      <th>V1</th>\n",
       "      <th>V2</th>\n",
       "      <th>V3</th>\n",
       "      <th>V4</th>\n",
       "      <th>V5</th>\n",
       "      <th>V6</th>\n",
       "      <th>V7</th>\n",
       "      <th>V8</th>\n",
       "      <th>...</th>\n",
       "      <th>V20</th>\n",
       "      <th>V21</th>\n",
       "      <th>V22</th>\n",
       "      <th>V23</th>\n",
       "      <th>V24</th>\n",
       "      <th>V25</th>\n",
       "      <th>V26</th>\n",
       "      <th>V27</th>\n",
       "      <th>V28</th>\n",
       "      <th>Amount</th>\n",
       "    </tr>\n",
       "  </thead>\n",
       "  <tbody>\n",
       "    <tr>\n",
       "      <th>0</th>\n",
       "      <td>30808</td>\n",
       "      <td>109847</td>\n",
       "      <td>1.930307</td>\n",
       "      <td>-0.234417</td>\n",
       "      <td>-1.583368</td>\n",
       "      <td>0.024786</td>\n",
       "      <td>1.016470</td>\n",
       "      <td>1.179664</td>\n",
       "      <td>-0.386242</td>\n",
       "      <td>0.327416</td>\n",
       "      <td>...</td>\n",
       "      <td>-0.437585</td>\n",
       "      <td>0.211402</td>\n",
       "      <td>1.015098</td>\n",
       "      <td>0.073241</td>\n",
       "      <td>-0.804496</td>\n",
       "      <td>0.072202</td>\n",
       "      <td>-0.383211</td>\n",
       "      <td>0.016787</td>\n",
       "      <td>-0.081815</td>\n",
       "      <td>1.00</td>\n",
       "    </tr>\n",
       "    <tr>\n",
       "      <th>1</th>\n",
       "      <td>174948</td>\n",
       "      <td>84730</td>\n",
       "      <td>-5.053316</td>\n",
       "      <td>-3.617236</td>\n",
       "      <td>-0.323455</td>\n",
       "      <td>1.447171</td>\n",
       "      <td>-0.097495</td>\n",
       "      <td>-0.154917</td>\n",
       "      <td>-2.076441</td>\n",
       "      <td>1.331307</td>\n",
       "      <td>...</td>\n",
       "      <td>-1.351008</td>\n",
       "      <td>-0.202483</td>\n",
       "      <td>0.036442</td>\n",
       "      <td>-1.901898</td>\n",
       "      <td>0.090641</td>\n",
       "      <td>-1.777126</td>\n",
       "      <td>0.947972</td>\n",
       "      <td>0.954071</td>\n",
       "      <td>-1.577919</td>\n",
       "      <td>333.48</td>\n",
       "    </tr>\n",
       "    <tr>\n",
       "      <th>2</th>\n",
       "      <td>203982</td>\n",
       "      <td>95957</td>\n",
       "      <td>0.090684</td>\n",
       "      <td>1.197902</td>\n",
       "      <td>-1.370219</td>\n",
       "      <td>0.770437</td>\n",
       "      <td>0.857203</td>\n",
       "      <td>-0.698486</td>\n",
       "      <td>1.350617</td>\n",
       "      <td>-0.952780</td>\n",
       "      <td>...</td>\n",
       "      <td>0.617074</td>\n",
       "      <td>-0.255027</td>\n",
       "      <td>0.378177</td>\n",
       "      <td>-0.126596</td>\n",
       "      <td>0.572250</td>\n",
       "      <td>0.347829</td>\n",
       "      <td>0.538705</td>\n",
       "      <td>-0.211582</td>\n",
       "      <td>-0.267241</td>\n",
       "      <td>50.14</td>\n",
       "    </tr>\n",
       "    <tr>\n",
       "      <th>3</th>\n",
       "      <td>283146</td>\n",
       "      <td>142109</td>\n",
       "      <td>1.808668</td>\n",
       "      <td>-1.197522</td>\n",
       "      <td>-2.291089</td>\n",
       "      <td>-0.690236</td>\n",
       "      <td>-0.312654</td>\n",
       "      <td>-1.756994</td>\n",
       "      <td>0.631548</td>\n",
       "      <td>-0.725965</td>\n",
       "      <td>...</td>\n",
       "      <td>0.457894</td>\n",
       "      <td>0.498576</td>\n",
       "      <td>0.927097</td>\n",
       "      <td>-0.283918</td>\n",
       "      <td>0.134011</td>\n",
       "      <td>0.372327</td>\n",
       "      <td>0.050185</td>\n",
       "      <td>-0.121994</td>\n",
       "      <td>-0.038088</td>\n",
       "      <td>254.04</td>\n",
       "    </tr>\n",
       "    <tr>\n",
       "      <th>4</th>\n",
       "      <td>47316</td>\n",
       "      <td>129034</td>\n",
       "      <td>-0.920372</td>\n",
       "      <td>1.003867</td>\n",
       "      <td>-0.110709</td>\n",
       "      <td>-2.771173</td>\n",
       "      <td>0.841827</td>\n",
       "      <td>-0.497278</td>\n",
       "      <td>0.769851</td>\n",
       "      <td>0.474075</td>\n",
       "      <td>...</td>\n",
       "      <td>-0.175248</td>\n",
       "      <td>-0.238352</td>\n",
       "      <td>-0.849203</td>\n",
       "      <td>-0.124786</td>\n",
       "      <td>0.086646</td>\n",
       "      <td>-0.007944</td>\n",
       "      <td>0.360582</td>\n",
       "      <td>0.090110</td>\n",
       "      <td>0.091000</td>\n",
       "      <td>1.00</td>\n",
       "    </tr>\n",
       "  </tbody>\n",
       "</table>\n",
       "<p>5 rows × 31 columns</p>\n",
       "</div>"
      ],
      "text/plain": [
       "       id    Time        V1        V2        V3        V4        V5        V6  \\\n",
       "0   30808  109847  1.930307 -0.234417 -1.583368  0.024786  1.016470  1.179664   \n",
       "1  174948   84730 -5.053316 -3.617236 -0.323455  1.447171 -0.097495 -0.154917   \n",
       "2  203982   95957  0.090684  1.197902 -1.370219  0.770437  0.857203 -0.698486   \n",
       "3  283146  142109  1.808668 -1.197522 -2.291089 -0.690236 -0.312654 -1.756994   \n",
       "4   47316  129034 -0.920372  1.003867 -0.110709 -2.771173  0.841827 -0.497278   \n",
       "\n",
       "         V7        V8   ...         V20       V21       V22       V23  \\\n",
       "0 -0.386242  0.327416   ...   -0.437585  0.211402  1.015098  0.073241   \n",
       "1 -2.076441  1.331307   ...   -1.351008 -0.202483  0.036442 -1.901898   \n",
       "2  1.350617 -0.952780   ...    0.617074 -0.255027  0.378177 -0.126596   \n",
       "3  0.631548 -0.725965   ...    0.457894  0.498576  0.927097 -0.283918   \n",
       "4  0.769851  0.474075   ...   -0.175248 -0.238352 -0.849203 -0.124786   \n",
       "\n",
       "        V24       V25       V26       V27       V28  Amount  \n",
       "0 -0.804496  0.072202 -0.383211  0.016787 -0.081815    1.00  \n",
       "1  0.090641 -1.777126  0.947972  0.954071 -1.577919  333.48  \n",
       "2  0.572250  0.347829  0.538705 -0.211582 -0.267241   50.14  \n",
       "3  0.134011  0.372327  0.050185 -0.121994 -0.038088  254.04  \n",
       "4  0.086646 -0.007944  0.360582  0.090110  0.091000    1.00  \n",
       "\n",
       "[5 rows x 31 columns]"
      ]
     },
     "execution_count": 10,
     "metadata": {},
     "output_type": "execute_result"
    }
   ],
   "source": [
    "# Now perform the same operations on the test dataset\n",
    "test_df.head()"
   ]
  },
  {
   "cell_type": "code",
   "execution_count": 11,
   "metadata": {},
   "outputs": [
    {
     "data": {
      "text/plain": [
       "(40000, 31)"
      ]
     },
     "execution_count": 11,
     "metadata": {},
     "output_type": "execute_result"
    }
   ],
   "source": [
    "test_df.shape"
   ]
  },
  {
   "cell_type": "code",
   "execution_count": 12,
   "metadata": {},
   "outputs": [
    {
     "data": {
      "text/plain": [
       "False"
      ]
     },
     "execution_count": 12,
     "metadata": {},
     "output_type": "execute_result"
    }
   ],
   "source": [
    "# Check for null values in the test dataset\n",
    "test_df.isnull().values.any()"
   ]
  },
  {
   "cell_type": "code",
   "execution_count": 11,
   "metadata": {},
   "outputs": [],
   "source": [
    "# Drop 'id' column in the test_dataframe\n",
    "#test_df = test_df.drop(['id'], axis=1)\n",
    "#Not done"
   ]
  },
  {
   "cell_type": "code",
   "execution_count": 13,
   "metadata": {},
   "outputs": [
    {
     "data": {
      "text/html": [
       "<div>\n",
       "<style scoped>\n",
       "    .dataframe tbody tr th:only-of-type {\n",
       "        vertical-align: middle;\n",
       "    }\n",
       "\n",
       "    .dataframe tbody tr th {\n",
       "        vertical-align: top;\n",
       "    }\n",
       "\n",
       "    .dataframe thead th {\n",
       "        text-align: right;\n",
       "    }\n",
       "</style>\n",
       "<table border=\"1\" class=\"dataframe\">\n",
       "  <thead>\n",
       "    <tr style=\"text-align: right;\">\n",
       "      <th></th>\n",
       "      <th>id</th>\n",
       "      <th>Time</th>\n",
       "      <th>V1</th>\n",
       "      <th>V2</th>\n",
       "      <th>V3</th>\n",
       "      <th>V4</th>\n",
       "      <th>V5</th>\n",
       "      <th>V6</th>\n",
       "      <th>V7</th>\n",
       "      <th>V8</th>\n",
       "      <th>...</th>\n",
       "      <th>V20</th>\n",
       "      <th>V21</th>\n",
       "      <th>V22</th>\n",
       "      <th>V23</th>\n",
       "      <th>V24</th>\n",
       "      <th>V25</th>\n",
       "      <th>V26</th>\n",
       "      <th>V27</th>\n",
       "      <th>V28</th>\n",
       "      <th>Amount</th>\n",
       "    </tr>\n",
       "  </thead>\n",
       "  <tbody>\n",
       "    <tr>\n",
       "      <th>0</th>\n",
       "      <td>30808</td>\n",
       "      <td>109847</td>\n",
       "      <td>1.930307</td>\n",
       "      <td>-0.234417</td>\n",
       "      <td>-1.583368</td>\n",
       "      <td>0.024786</td>\n",
       "      <td>1.016470</td>\n",
       "      <td>1.179664</td>\n",
       "      <td>-0.386242</td>\n",
       "      <td>0.327416</td>\n",
       "      <td>...</td>\n",
       "      <td>-0.437585</td>\n",
       "      <td>0.211402</td>\n",
       "      <td>1.015098</td>\n",
       "      <td>0.073241</td>\n",
       "      <td>-0.804496</td>\n",
       "      <td>0.072202</td>\n",
       "      <td>-0.383211</td>\n",
       "      <td>0.016787</td>\n",
       "      <td>-0.081815</td>\n",
       "      <td>1.00</td>\n",
       "    </tr>\n",
       "    <tr>\n",
       "      <th>1</th>\n",
       "      <td>174948</td>\n",
       "      <td>84730</td>\n",
       "      <td>-5.053316</td>\n",
       "      <td>-3.617236</td>\n",
       "      <td>-0.323455</td>\n",
       "      <td>1.447171</td>\n",
       "      <td>-0.097495</td>\n",
       "      <td>-0.154917</td>\n",
       "      <td>-2.076441</td>\n",
       "      <td>1.331307</td>\n",
       "      <td>...</td>\n",
       "      <td>-1.351008</td>\n",
       "      <td>-0.202483</td>\n",
       "      <td>0.036442</td>\n",
       "      <td>-1.901898</td>\n",
       "      <td>0.090641</td>\n",
       "      <td>-1.777126</td>\n",
       "      <td>0.947972</td>\n",
       "      <td>0.954071</td>\n",
       "      <td>-1.577919</td>\n",
       "      <td>333.48</td>\n",
       "    </tr>\n",
       "    <tr>\n",
       "      <th>2</th>\n",
       "      <td>203982</td>\n",
       "      <td>95957</td>\n",
       "      <td>0.090684</td>\n",
       "      <td>1.197902</td>\n",
       "      <td>-1.370219</td>\n",
       "      <td>0.770437</td>\n",
       "      <td>0.857203</td>\n",
       "      <td>-0.698486</td>\n",
       "      <td>1.350617</td>\n",
       "      <td>-0.952780</td>\n",
       "      <td>...</td>\n",
       "      <td>0.617074</td>\n",
       "      <td>-0.255027</td>\n",
       "      <td>0.378177</td>\n",
       "      <td>-0.126596</td>\n",
       "      <td>0.572250</td>\n",
       "      <td>0.347829</td>\n",
       "      <td>0.538705</td>\n",
       "      <td>-0.211582</td>\n",
       "      <td>-0.267241</td>\n",
       "      <td>50.14</td>\n",
       "    </tr>\n",
       "    <tr>\n",
       "      <th>3</th>\n",
       "      <td>283146</td>\n",
       "      <td>142109</td>\n",
       "      <td>1.808668</td>\n",
       "      <td>-1.197522</td>\n",
       "      <td>-2.291089</td>\n",
       "      <td>-0.690236</td>\n",
       "      <td>-0.312654</td>\n",
       "      <td>-1.756994</td>\n",
       "      <td>0.631548</td>\n",
       "      <td>-0.725965</td>\n",
       "      <td>...</td>\n",
       "      <td>0.457894</td>\n",
       "      <td>0.498576</td>\n",
       "      <td>0.927097</td>\n",
       "      <td>-0.283918</td>\n",
       "      <td>0.134011</td>\n",
       "      <td>0.372327</td>\n",
       "      <td>0.050185</td>\n",
       "      <td>-0.121994</td>\n",
       "      <td>-0.038088</td>\n",
       "      <td>254.04</td>\n",
       "    </tr>\n",
       "    <tr>\n",
       "      <th>4</th>\n",
       "      <td>47316</td>\n",
       "      <td>129034</td>\n",
       "      <td>-0.920372</td>\n",
       "      <td>1.003867</td>\n",
       "      <td>-0.110709</td>\n",
       "      <td>-2.771173</td>\n",
       "      <td>0.841827</td>\n",
       "      <td>-0.497278</td>\n",
       "      <td>0.769851</td>\n",
       "      <td>0.474075</td>\n",
       "      <td>...</td>\n",
       "      <td>-0.175248</td>\n",
       "      <td>-0.238352</td>\n",
       "      <td>-0.849203</td>\n",
       "      <td>-0.124786</td>\n",
       "      <td>0.086646</td>\n",
       "      <td>-0.007944</td>\n",
       "      <td>0.360582</td>\n",
       "      <td>0.090110</td>\n",
       "      <td>0.091000</td>\n",
       "      <td>1.00</td>\n",
       "    </tr>\n",
       "  </tbody>\n",
       "</table>\n",
       "<p>5 rows × 31 columns</p>\n",
       "</div>"
      ],
      "text/plain": [
       "       id    Time        V1        V2        V3        V4        V5        V6  \\\n",
       "0   30808  109847  1.930307 -0.234417 -1.583368  0.024786  1.016470  1.179664   \n",
       "1  174948   84730 -5.053316 -3.617236 -0.323455  1.447171 -0.097495 -0.154917   \n",
       "2  203982   95957  0.090684  1.197902 -1.370219  0.770437  0.857203 -0.698486   \n",
       "3  283146  142109  1.808668 -1.197522 -2.291089 -0.690236 -0.312654 -1.756994   \n",
       "4   47316  129034 -0.920372  1.003867 -0.110709 -2.771173  0.841827 -0.497278   \n",
       "\n",
       "         V7        V8   ...         V20       V21       V22       V23  \\\n",
       "0 -0.386242  0.327416   ...   -0.437585  0.211402  1.015098  0.073241   \n",
       "1 -2.076441  1.331307   ...   -1.351008 -0.202483  0.036442 -1.901898   \n",
       "2  1.350617 -0.952780   ...    0.617074 -0.255027  0.378177 -0.126596   \n",
       "3  0.631548 -0.725965   ...    0.457894  0.498576  0.927097 -0.283918   \n",
       "4  0.769851  0.474075   ...   -0.175248 -0.238352 -0.849203 -0.124786   \n",
       "\n",
       "        V24       V25       V26       V27       V28  Amount  \n",
       "0 -0.804496  0.072202 -0.383211  0.016787 -0.081815    1.00  \n",
       "1  0.090641 -1.777126  0.947972  0.954071 -1.577919  333.48  \n",
       "2  0.572250  0.347829  0.538705 -0.211582 -0.267241   50.14  \n",
       "3  0.134011  0.372327  0.050185 -0.121994 -0.038088  254.04  \n",
       "4  0.086646 -0.007944  0.360582  0.090110  0.091000    1.00  \n",
       "\n",
       "[5 rows x 31 columns]"
      ]
     },
     "execution_count": 13,
     "metadata": {},
     "output_type": "execute_result"
    }
   ],
   "source": [
    "test_df.head()"
   ]
  },
  {
   "cell_type": "code",
   "execution_count": 14,
   "metadata": {},
   "outputs": [],
   "source": [
    "# Create two columns called as 'scaled_time' and 'scaled_amount' in test_dataset\n",
    "# RobustScaler is less prone to outliers.\n",
    "test_df['scaled_amount'] = rob_scaler.fit_transform(test_df['Amount'].values.reshape(-1,1))\n",
    "test_df['scaled_time'] = rob_scaler.fit_transform(test_df['Time'].values.reshape(-1,1))"
   ]
  },
  {
   "cell_type": "code",
   "execution_count": 15,
   "metadata": {},
   "outputs": [
    {
     "data": {
      "text/html": [
       "<div>\n",
       "<style scoped>\n",
       "    .dataframe tbody tr th:only-of-type {\n",
       "        vertical-align: middle;\n",
       "    }\n",
       "\n",
       "    .dataframe tbody tr th {\n",
       "        vertical-align: top;\n",
       "    }\n",
       "\n",
       "    .dataframe thead th {\n",
       "        text-align: right;\n",
       "    }\n",
       "</style>\n",
       "<table border=\"1\" class=\"dataframe\">\n",
       "  <thead>\n",
       "    <tr style=\"text-align: right;\">\n",
       "      <th></th>\n",
       "      <th>id</th>\n",
       "      <th>Time</th>\n",
       "      <th>V1</th>\n",
       "      <th>V2</th>\n",
       "      <th>V3</th>\n",
       "      <th>V4</th>\n",
       "      <th>V5</th>\n",
       "      <th>V6</th>\n",
       "      <th>V7</th>\n",
       "      <th>V8</th>\n",
       "      <th>...</th>\n",
       "      <th>V22</th>\n",
       "      <th>V23</th>\n",
       "      <th>V24</th>\n",
       "      <th>V25</th>\n",
       "      <th>V26</th>\n",
       "      <th>V27</th>\n",
       "      <th>V28</th>\n",
       "      <th>Amount</th>\n",
       "      <th>scaled_amount</th>\n",
       "      <th>scaled_time</th>\n",
       "    </tr>\n",
       "  </thead>\n",
       "  <tbody>\n",
       "    <tr>\n",
       "      <th>0</th>\n",
       "      <td>30808</td>\n",
       "      <td>109847</td>\n",
       "      <td>1.930307</td>\n",
       "      <td>-0.234417</td>\n",
       "      <td>-1.583368</td>\n",
       "      <td>0.024786</td>\n",
       "      <td>1.016470</td>\n",
       "      <td>1.179664</td>\n",
       "      <td>-0.386242</td>\n",
       "      <td>0.327416</td>\n",
       "      <td>...</td>\n",
       "      <td>1.015098</td>\n",
       "      <td>0.073241</td>\n",
       "      <td>-0.804496</td>\n",
       "      <td>0.072202</td>\n",
       "      <td>-0.383211</td>\n",
       "      <td>0.016787</td>\n",
       "      <td>-0.081815</td>\n",
       "      <td>1.00</td>\n",
       "      <td>-0.290778</td>\n",
       "      <td>0.300271</td>\n",
       "    </tr>\n",
       "    <tr>\n",
       "      <th>1</th>\n",
       "      <td>174948</td>\n",
       "      <td>84730</td>\n",
       "      <td>-5.053316</td>\n",
       "      <td>-3.617236</td>\n",
       "      <td>-0.323455</td>\n",
       "      <td>1.447171</td>\n",
       "      <td>-0.097495</td>\n",
       "      <td>-0.154917</td>\n",
       "      <td>-2.076441</td>\n",
       "      <td>1.331307</td>\n",
       "      <td>...</td>\n",
       "      <td>0.036442</td>\n",
       "      <td>-1.901898</td>\n",
       "      <td>0.090641</td>\n",
       "      <td>-1.777126</td>\n",
       "      <td>0.947972</td>\n",
       "      <td>0.954071</td>\n",
       "      <td>-1.577919</td>\n",
       "      <td>333.48</td>\n",
       "      <td>4.312933</td>\n",
       "      <td>0.002449</td>\n",
       "    </tr>\n",
       "    <tr>\n",
       "      <th>2</th>\n",
       "      <td>203982</td>\n",
       "      <td>95957</td>\n",
       "      <td>0.090684</td>\n",
       "      <td>1.197902</td>\n",
       "      <td>-1.370219</td>\n",
       "      <td>0.770437</td>\n",
       "      <td>0.857203</td>\n",
       "      <td>-0.698486</td>\n",
       "      <td>1.350617</td>\n",
       "      <td>-0.952780</td>\n",
       "      <td>...</td>\n",
       "      <td>0.378177</td>\n",
       "      <td>-0.126596</td>\n",
       "      <td>0.572250</td>\n",
       "      <td>0.347829</td>\n",
       "      <td>0.538705</td>\n",
       "      <td>-0.211582</td>\n",
       "      <td>-0.267241</td>\n",
       "      <td>50.14</td>\n",
       "      <td>0.389643</td>\n",
       "      <td>0.135572</td>\n",
       "    </tr>\n",
       "    <tr>\n",
       "      <th>3</th>\n",
       "      <td>283146</td>\n",
       "      <td>142109</td>\n",
       "      <td>1.808668</td>\n",
       "      <td>-1.197522</td>\n",
       "      <td>-2.291089</td>\n",
       "      <td>-0.690236</td>\n",
       "      <td>-0.312654</td>\n",
       "      <td>-1.756994</td>\n",
       "      <td>0.631548</td>\n",
       "      <td>-0.725965</td>\n",
       "      <td>...</td>\n",
       "      <td>0.927097</td>\n",
       "      <td>-0.283918</td>\n",
       "      <td>0.134011</td>\n",
       "      <td>0.372327</td>\n",
       "      <td>0.050185</td>\n",
       "      <td>-0.121994</td>\n",
       "      <td>-0.038088</td>\n",
       "      <td>254.04</td>\n",
       "      <td>3.212960</td>\n",
       "      <td>0.682814</td>\n",
       "    </tr>\n",
       "    <tr>\n",
       "      <th>4</th>\n",
       "      <td>47316</td>\n",
       "      <td>129034</td>\n",
       "      <td>-0.920372</td>\n",
       "      <td>1.003867</td>\n",
       "      <td>-0.110709</td>\n",
       "      <td>-2.771173</td>\n",
       "      <td>0.841827</td>\n",
       "      <td>-0.497278</td>\n",
       "      <td>0.769851</td>\n",
       "      <td>0.474075</td>\n",
       "      <td>...</td>\n",
       "      <td>-0.849203</td>\n",
       "      <td>-0.124786</td>\n",
       "      <td>0.086646</td>\n",
       "      <td>-0.007944</td>\n",
       "      <td>0.360582</td>\n",
       "      <td>0.090110</td>\n",
       "      <td>0.091000</td>\n",
       "      <td>1.00</td>\n",
       "      <td>-0.290778</td>\n",
       "      <td>0.527779</td>\n",
       "    </tr>\n",
       "  </tbody>\n",
       "</table>\n",
       "<p>5 rows × 33 columns</p>\n",
       "</div>"
      ],
      "text/plain": [
       "       id    Time        V1        V2        V3        V4        V5        V6  \\\n",
       "0   30808  109847  1.930307 -0.234417 -1.583368  0.024786  1.016470  1.179664   \n",
       "1  174948   84730 -5.053316 -3.617236 -0.323455  1.447171 -0.097495 -0.154917   \n",
       "2  203982   95957  0.090684  1.197902 -1.370219  0.770437  0.857203 -0.698486   \n",
       "3  283146  142109  1.808668 -1.197522 -2.291089 -0.690236 -0.312654 -1.756994   \n",
       "4   47316  129034 -0.920372  1.003867 -0.110709 -2.771173  0.841827 -0.497278   \n",
       "\n",
       "         V7        V8     ...            V22       V23       V24       V25  \\\n",
       "0 -0.386242  0.327416     ...       1.015098  0.073241 -0.804496  0.072202   \n",
       "1 -2.076441  1.331307     ...       0.036442 -1.901898  0.090641 -1.777126   \n",
       "2  1.350617 -0.952780     ...       0.378177 -0.126596  0.572250  0.347829   \n",
       "3  0.631548 -0.725965     ...       0.927097 -0.283918  0.134011  0.372327   \n",
       "4  0.769851  0.474075     ...      -0.849203 -0.124786  0.086646 -0.007944   \n",
       "\n",
       "        V26       V27       V28  Amount  scaled_amount  scaled_time  \n",
       "0 -0.383211  0.016787 -0.081815    1.00      -0.290778     0.300271  \n",
       "1  0.947972  0.954071 -1.577919  333.48       4.312933     0.002449  \n",
       "2  0.538705 -0.211582 -0.267241   50.14       0.389643     0.135572  \n",
       "3  0.050185 -0.121994 -0.038088  254.04       3.212960     0.682814  \n",
       "4  0.360582  0.090110  0.091000    1.00      -0.290778     0.527779  \n",
       "\n",
       "[5 rows x 33 columns]"
      ]
     },
     "execution_count": 15,
     "metadata": {},
     "output_type": "execute_result"
    }
   ],
   "source": [
    "test_df.head()"
   ]
  },
  {
   "cell_type": "code",
   "execution_count": 16,
   "metadata": {},
   "outputs": [],
   "source": [
    "# Define feature arrays\n",
    "\n",
    "features = ['Time','V1','V2','V3','V4','V5','V6','V7','V8','V9',\n",
    "            'V10','V11','V12','V13','V14','V15','V16','V17','V18','V19','V20','V21','V22',\n",
    "           'V23','V24','V25','V26','V27','V28','Amount']\n",
    "\n",
    "scaled_features = ['V1','V2','V3','V4','V5','V6','V7','V8','V9',\n",
    "            'V10','V11','V12','V13','V14','V15','V16','V17','V18','V19','V20','V21','V22',\n",
    "           'V23','V24','V25','V26','V27','V28','scaled_amount','scaled_time']"
   ]
  },
  {
   "cell_type": "markdown",
   "metadata": {},
   "source": [
    "## Now train, valid and test on the original data with all features and scaled_features (2 Models) without any undersampling or oversampling"
   ]
  },
  {
   "cell_type": "code",
   "execution_count": 17,
   "metadata": {},
   "outputs": [],
   "source": [
    "# Model1 :- with Original features\n",
    "\n",
    "y = df['Class']\n",
    "X = df[features]"
   ]
  },
  {
   "cell_type": "code",
   "execution_count": 18,
   "metadata": {},
   "outputs": [],
   "source": [
    "X_train, X_testing, y_train, y_testing = train_test_split(X, y, test_size = 0.3, random_state = 16)"
   ]
  },
  {
   "cell_type": "code",
   "execution_count": 19,
   "metadata": {},
   "outputs": [],
   "source": [
    "X_valid, X_test, y_valid, y_test = train_test_split(X_testing, y_testing, test_size = 0.5, random_state = 31)"
   ]
  },
  {
   "cell_type": "code",
   "execution_count": 20,
   "metadata": {},
   "outputs": [
    {
     "name": "stdout",
     "output_type": "stream",
     "text": [
      "Shape of X_train:  (171364, 30)\n",
      "Shape of y_train:  (171364,)\n",
      "Shape of X_valid:  (36721, 30)\n",
      "Shape of y_valid:  (36721,)\n",
      "Shape of X_test:  (36722, 30)\n",
      "Shape of y_test:  (36722,)\n"
     ]
    }
   ],
   "source": [
    "print('Shape of X_train: ',X_train.shape)\n",
    "print('Shape of y_train: ',y_train.shape)\n",
    "print('Shape of X_valid: ',X_valid.shape)\n",
    "print('Shape of y_valid: ',y_valid.shape)\n",
    "print('Shape of X_test: ',X_test.shape)\n",
    "print('Shape of y_test: ',y_test.shape)"
   ]
  },
  {
   "cell_type": "code",
   "execution_count": 21,
   "metadata": {},
   "outputs": [
    {
     "name": "stdout",
     "output_type": "stream",
     "text": [
      "Distribution of the Classes in the original dataset\n",
      "0    0.998276\n",
      "1    0.001724\n",
      "Name: Class, dtype: float64\n"
     ]
    },
    {
     "data": {
      "image/png": "[encoded data removed]",
      "text/plain": [
       "<Figure size 432x288 with 1 Axes>"
      ]
     },
     "metadata": {
      "needs_background": "light"
     },
     "output_type": "display_data"
    }
   ],
   "source": [
    "print('Distribution of the Classes in the original dataset')\n",
    "print(df['Class'].value_counts()/len(df))\n",
    "sns.countplot('Class', data=df)\n",
    "plt.title('Distribution of Classes', fontsize=14)\n",
    "plt.show()"
   ]
  },
  {
   "cell_type": "markdown",
   "metadata": {},
   "source": [
    "### It is a highly imbalanced dataset. Fit a model and test it"
   ]
  },
  {
   "cell_type": "code",
   "execution_count": 22,
   "metadata": {},
   "outputs": [
    {
     "name": "stderr",
     "output_type": "stream",
     "text": [
      "C:\\Users\\nisha\\Anaconda3\\lib\\site-packages\\sklearn\\linear_model\\logistic.py:433: FutureWarning: Default solver will be changed to 'lbfgs' in 0.22. Specify a solver to silence this warning.\n",
      "  FutureWarning)\n"
     ]
    },
    {
     "name": "stdout",
     "output_type": "stream",
     "text": [
      "Optimal Cutoff: [0.00201228]\n",
      "Accurcay: 0.9988290398126464\n",
      "AUC: 0.8801202857997642\n",
      "Log Loss: 0.010948375220051265\n",
      "Confusion Matrix:\n",
      " [[36647    13]\n",
      " [   30    32]]\n",
      "Recall: 0.5161290322580645\n",
      "Precision: 0.7111111111111111\n"
     ]
    },
    {
     "data": {
      "image/png": "[encoded data removed]",
      "text/plain": [
       "<Figure size 432x288 with 1 Axes>"
      ]
     },
     "metadata": {
      "needs_background": "light"
     },
     "output_type": "display_data"
    }
   ],
   "source": [
    "logreg = LogisticRegression()\n",
    "model_training(logreg, X_train, y_train)\n",
    "\n",
    "#threshold = 0.5\n",
    "plot_auc_curve(logreg, X_test, y_test)\n",
    "Find_Optimal_Cutoff(logreg, X_test, y_test)\n",
    "print_accurcay_metrics(logreg, X_test, y_test, 0.50)"
   ]
  },
  {
   "cell_type": "code",
   "execution_count": 23,
   "metadata": {},
   "outputs": [
    {
     "name": "stdout",
     "output_type": "stream",
     "text": [
      "Accurcay: 0.9989379663417025\n",
      "AUC: 0.8801202857997642\n",
      "Log Loss: 0.010948375220051265\n",
      "Confusion Matrix:\n",
      " [[36654     6]\n",
      " [   33    29]]\n",
      "Recall: 0.46774193548387094\n",
      "Precision: 0.8285714285714286\n"
     ]
    }
   ],
   "source": [
    "# threshold = 0.7\n",
    "print_accurcay_metrics(logreg, X_test, y_test, 0.70)"
   ]
  },
  {
   "cell_type": "code",
   "execution_count": 24,
   "metadata": {},
   "outputs": [
    {
     "name": "stdout",
     "output_type": "stream",
     "text": [
      "Accurcay: 0.9988835030771744\n",
      "AUC: 0.8801202857997642\n",
      "Log Loss: 0.010948375220051265\n",
      "Confusion Matrix:\n",
      " [[36656     4]\n",
      " [   37    25]]\n",
      "Recall: 0.4032258064516129\n",
      "Precision: 0.8620689655172413\n"
     ]
    }
   ],
   "source": [
    "# threshold = 0.9\n",
    "print_accurcay_metrics(logreg, X_test, y_test, 0.9)"
   ]
  },
  {
   "cell_type": "markdown",
   "metadata": {},
   "source": [
    "### Train on original dataset including all features and scaling time and amount"
   ]
  },
  {
   "cell_type": "code",
   "execution_count": 25,
   "metadata": {},
   "outputs": [],
   "source": [
    "y1 = df['Class']\n",
    "X1 = df[scaled_features]"
   ]
  },
  {
   "cell_type": "code",
   "execution_count": 26,
   "metadata": {},
   "outputs": [],
   "source": [
    "X1_train, X1_test, y1_train, y1_test = train_test_split(X1, y1, test_size = 0.2, random_state = 34)"
   ]
  },
  {
   "cell_type": "code",
   "execution_count": 27,
   "metadata": {},
   "outputs": [
    {
     "name": "stderr",
     "output_type": "stream",
     "text": [
      "C:\\Users\\nisha\\Anaconda3\\lib\\site-packages\\sklearn\\linear_model\\logistic.py:433: FutureWarning: Default solver will be changed to 'lbfgs' in 0.22. Specify a solver to silence this warning.\n",
      "  FutureWarning)\n"
     ]
    },
    {
     "name": "stdout",
     "output_type": "stream",
     "text": [
      "Optimal Cutoff: [0.00140329]\n",
      "Accurcay: 0.9992647359176504\n",
      "AUC: 0.9885953466259011\n",
      "Log Loss: 0.0033605409911763107\n",
      "Confusion Matrix:\n",
      " [[48876     7]\n",
      " [   29    50]]\n",
      "Recall: 0.6329113924050633\n",
      "Precision: 0.8771929824561403\n"
     ]
    },
    {
     "data": {
      "image/png": "[encoded data removed]",
      "text/plain": [
       "<Figure size 432x288 with 1 Axes>"
      ]
     },
     "metadata": {
      "needs_background": "light"
     },
     "output_type": "display_data"
    }
   ],
   "source": [
    "model_training(logreg, X1_train, y1_train)\n",
    "\n",
    "#threshold = 0.5\n",
    "plot_auc_curve(logreg, X1_test, y1_test)\n",
    "Find_Optimal_Cutoff(logreg, X1_test, y1_test)\n",
    "print_accurcay_metrics(logreg, X1_test, y1_test, 0.50)"
   ]
  },
  {
   "cell_type": "code",
   "execution_count": 28,
   "metadata": {},
   "outputs": [
    {
     "name": "stdout",
     "output_type": "stream",
     "text": [
      "Accurcay: 0.9991830399085004\n",
      "AUC: 0.9885953466259011\n",
      "Log Loss: 0.0033605409911763107\n",
      "Confusion Matrix:\n",
      " [[48878     5]\n",
      " [   35    44]]\n",
      "Recall: 0.5569620253164557\n",
      "Precision: 0.8979591836734694\n"
     ]
    }
   ],
   "source": [
    "#threshold = 0.8\n",
    "print_accurcay_metrics(logreg, X1_test, y1_test, 0.8)"
   ]
  },
  {
   "cell_type": "code",
   "execution_count": 29,
   "metadata": {},
   "outputs": [
    {
     "name": "stderr",
     "output_type": "stream",
     "text": [
      "C:\\Users\\nisha\\Anaconda3\\lib\\site-packages\\sklearn\\model_selection\\_split.py:2053: FutureWarning: You should specify a value for 'cv' instead of relying on the default value. The default value will change from 3 to 5 in version 0.22.\n",
      "  warnings.warn(CV_WARNING, FutureWarning)\n",
      "C:\\Users\\nisha\\Anaconda3\\lib\\site-packages\\sklearn\\linear_model\\logistic.py:433: FutureWarning: Default solver will be changed to 'lbfgs' in 0.22. Specify a solver to silence this warning.\n",
      "  FutureWarning)\n",
      "C:\\Users\\nisha\\Anaconda3\\lib\\site-packages\\sklearn\\linear_model\\logistic.py:433: FutureWarning: Default solver will be changed to 'lbfgs' in 0.22. Specify a solver to silence this warning.\n",
      "  FutureWarning)\n",
      "C:\\Users\\nisha\\Anaconda3\\lib\\site-packages\\sklearn\\linear_model\\logistic.py:433: FutureWarning: Default solver will be changed to 'lbfgs' in 0.22. Specify a solver to silence this warning.\n",
      "  FutureWarning)\n",
      "C:\\Users\\nisha\\Anaconda3\\lib\\site-packages\\sklearn\\linear_model\\logistic.py:433: FutureWarning: Default solver will be changed to 'lbfgs' in 0.22. Specify a solver to silence this warning.\n",
      "  FutureWarning)\n",
      "C:\\Users\\nisha\\Anaconda3\\lib\\site-packages\\sklearn\\linear_model\\logistic.py:433: FutureWarning: Default solver will be changed to 'lbfgs' in 0.22. Specify a solver to silence this warning.\n",
      "  FutureWarning)\n",
      "C:\\Users\\nisha\\Anaconda3\\lib\\site-packages\\sklearn\\linear_model\\logistic.py:433: FutureWarning: Default solver will be changed to 'lbfgs' in 0.22. Specify a solver to silence this warning.\n",
      "  FutureWarning)\n",
      "C:\\Users\\nisha\\Anaconda3\\lib\\site-packages\\sklearn\\linear_model\\logistic.py:433: FutureWarning: Default solver will be changed to 'lbfgs' in 0.22. Specify a solver to silence this warning.\n",
      "  FutureWarning)\n",
      "C:\\Users\\nisha\\Anaconda3\\lib\\site-packages\\sklearn\\linear_model\\logistic.py:433: FutureWarning: Default solver will be changed to 'lbfgs' in 0.22. Specify a solver to silence this warning.\n",
      "  FutureWarning)\n",
      "C:\\Users\\nisha\\Anaconda3\\lib\\site-packages\\sklearn\\linear_model\\logistic.py:433: FutureWarning: Default solver will be changed to 'lbfgs' in 0.22. Specify a solver to silence this warning.\n",
      "  FutureWarning)\n",
      "C:\\Users\\nisha\\Anaconda3\\lib\\site-packages\\sklearn\\linear_model\\logistic.py:433: FutureWarning: Default solver will be changed to 'lbfgs' in 0.22. Specify a solver to silence this warning.\n",
      "  FutureWarning)\n",
      "C:\\Users\\nisha\\Anaconda3\\lib\\site-packages\\sklearn\\linear_model\\logistic.py:433: FutureWarning: Default solver will be changed to 'lbfgs' in 0.22. Specify a solver to silence this warning.\n",
      "  FutureWarning)\n",
      "C:\\Users\\nisha\\Anaconda3\\lib\\site-packages\\sklearn\\linear_model\\logistic.py:433: FutureWarning: Default solver will be changed to 'lbfgs' in 0.22. Specify a solver to silence this warning.\n",
      "  FutureWarning)\n",
      "C:\\Users\\nisha\\Anaconda3\\lib\\site-packages\\sklearn\\linear_model\\logistic.py:433: FutureWarning: Default solver will be changed to 'lbfgs' in 0.22. Specify a solver to silence this warning.\n",
      "  FutureWarning)\n",
      "C:\\Users\\nisha\\Anaconda3\\lib\\site-packages\\sklearn\\linear_model\\logistic.py:433: FutureWarning: Default solver will be changed to 'lbfgs' in 0.22. Specify a solver to silence this warning.\n",
      "  FutureWarning)\n",
      "C:\\Users\\nisha\\Anaconda3\\lib\\site-packages\\sklearn\\linear_model\\logistic.py:433: FutureWarning: Default solver will be changed to 'lbfgs' in 0.22. Specify a solver to silence this warning.\n",
      "  FutureWarning)\n",
      "C:\\Users\\nisha\\Anaconda3\\lib\\site-packages\\sklearn\\linear_model\\logistic.py:433: FutureWarning: Default solver will be changed to 'lbfgs' in 0.22. Specify a solver to silence this warning.\n",
      "  FutureWarning)\n",
      "C:\\Users\\nisha\\Anaconda3\\lib\\site-packages\\sklearn\\linear_model\\logistic.py:433: FutureWarning: Default solver will be changed to 'lbfgs' in 0.22. Specify a solver to silence this warning.\n",
      "  FutureWarning)\n",
      "C:\\Users\\nisha\\Anaconda3\\lib\\site-packages\\sklearn\\linear_model\\logistic.py:433: FutureWarning: Default solver will be changed to 'lbfgs' in 0.22. Specify a solver to silence this warning.\n",
      "  FutureWarning)\n",
      "C:\\Users\\nisha\\Anaconda3\\lib\\site-packages\\sklearn\\linear_model\\logistic.py:433: FutureWarning: Default solver will be changed to 'lbfgs' in 0.22. Specify a solver to silence this warning.\n",
      "  FutureWarning)\n",
      "C:\\Users\\nisha\\Anaconda3\\lib\\site-packages\\sklearn\\linear_model\\logistic.py:433: FutureWarning: Default solver will be changed to 'lbfgs' in 0.22. Specify a solver to silence this warning.\n",
      "  FutureWarning)\n",
      "C:\\Users\\nisha\\Anaconda3\\lib\\site-packages\\sklearn\\linear_model\\logistic.py:433: FutureWarning: Default solver will be changed to 'lbfgs' in 0.22. Specify a solver to silence this warning.\n",
      "  FutureWarning)\n",
      "C:\\Users\\nisha\\Anaconda3\\lib\\site-packages\\sklearn\\linear_model\\logistic.py:433: FutureWarning: Default solver will be changed to 'lbfgs' in 0.22. Specify a solver to silence this warning.\n",
      "  FutureWarning)\n",
      "C:\\Users\\nisha\\Anaconda3\\lib\\site-packages\\sklearn\\linear_model\\logistic.py:433: FutureWarning: Default solver will be changed to 'lbfgs' in 0.22. Specify a solver to silence this warning.\n",
      "  FutureWarning)\n",
      "C:\\Users\\nisha\\Anaconda3\\lib\\site-packages\\sklearn\\linear_model\\logistic.py:433: FutureWarning: Default solver will be changed to 'lbfgs' in 0.22. Specify a solver to silence this warning.\n",
      "  FutureWarning)\n",
      "C:\\Users\\nisha\\Anaconda3\\lib\\site-packages\\sklearn\\linear_model\\logistic.py:433: FutureWarning: Default solver will be changed to 'lbfgs' in 0.22. Specify a solver to silence this warning.\n",
      "  FutureWarning)\n",
      "C:\\Users\\nisha\\Anaconda3\\lib\\site-packages\\sklearn\\linear_model\\logistic.py:433: FutureWarning: Default solver will be changed to 'lbfgs' in 0.22. Specify a solver to silence this warning.\n",
      "  FutureWarning)\n",
      "C:\\Users\\nisha\\Anaconda3\\lib\\site-packages\\sklearn\\linear_model\\logistic.py:433: FutureWarning: Default solver will be changed to 'lbfgs' in 0.22. Specify a solver to silence this warning.\n",
      "  FutureWarning)\n",
      "C:\\Users\\nisha\\Anaconda3\\lib\\site-packages\\sklearn\\linear_model\\logistic.py:433: FutureWarning: Default solver will be changed to 'lbfgs' in 0.22. Specify a solver to silence this warning.\n",
      "  FutureWarning)\n",
      "C:\\Users\\nisha\\Anaconda3\\lib\\site-packages\\sklearn\\linear_model\\logistic.py:433: FutureWarning: Default solver will be changed to 'lbfgs' in 0.22. Specify a solver to silence this warning.\n",
      "  FutureWarning)\n",
      "C:\\Users\\nisha\\Anaconda3\\lib\\site-packages\\sklearn\\linear_model\\logistic.py:433: FutureWarning: Default solver will be changed to 'lbfgs' in 0.22. Specify a solver to silence this warning.\n",
      "  FutureWarning)\n",
      "C:\\Users\\nisha\\Anaconda3\\lib\\site-packages\\sklearn\\linear_model\\logistic.py:433: FutureWarning: Default solver will be changed to 'lbfgs' in 0.22. Specify a solver to silence this warning.\n",
      "  FutureWarning)\n",
      "C:\\Users\\nisha\\Anaconda3\\lib\\site-packages\\sklearn\\linear_model\\logistic.py:433: FutureWarning: Default solver will be changed to 'lbfgs' in 0.22. Specify a solver to silence this warning.\n",
      "  FutureWarning)\n",
      "C:\\Users\\nisha\\Anaconda3\\lib\\site-packages\\sklearn\\linear_model\\logistic.py:433: FutureWarning: Default solver will be changed to 'lbfgs' in 0.22. Specify a solver to silence this warning.\n",
      "  FutureWarning)\n",
      "C:\\Users\\nisha\\Anaconda3\\lib\\site-packages\\sklearn\\linear_model\\logistic.py:433: FutureWarning: Default solver will be changed to 'lbfgs' in 0.22. Specify a solver to silence this warning.\n",
      "  FutureWarning)\n",
      "C:\\Users\\nisha\\Anaconda3\\lib\\site-packages\\sklearn\\linear_model\\logistic.py:433: FutureWarning: Default solver will be changed to 'lbfgs' in 0.22. Specify a solver to silence this warning.\n",
      "  FutureWarning)\n",
      "C:\\Users\\nisha\\Anaconda3\\lib\\site-packages\\sklearn\\linear_model\\logistic.py:433: FutureWarning: Default solver will be changed to 'lbfgs' in 0.22. Specify a solver to silence this warning.\n",
      "  FutureWarning)\n",
      "C:\\Users\\nisha\\Anaconda3\\lib\\site-packages\\sklearn\\linear_model\\logistic.py:433: FutureWarning: Default solver will be changed to 'lbfgs' in 0.22. Specify a solver to silence this warning.\n",
      "  FutureWarning)\n",
      "C:\\Users\\nisha\\Anaconda3\\lib\\site-packages\\sklearn\\linear_model\\logistic.py:433: FutureWarning: Default solver will be changed to 'lbfgs' in 0.22. Specify a solver to silence this warning.\n",
      "  FutureWarning)\n",
      "C:\\Users\\nisha\\Anaconda3\\lib\\site-packages\\sklearn\\linear_model\\logistic.py:433: FutureWarning: Default solver will be changed to 'lbfgs' in 0.22. Specify a solver to silence this warning.\n",
      "  FutureWarning)\n"
     ]
    },
    {
     "name": "stderr",
     "output_type": "stream",
     "text": [
      "C:\\Users\\nisha\\Anaconda3\\lib\\site-packages\\sklearn\\linear_model\\logistic.py:433: FutureWarning: Default solver will be changed to 'lbfgs' in 0.22. Specify a solver to silence this warning.\n",
      "  FutureWarning)\n",
      "C:\\Users\\nisha\\Anaconda3\\lib\\site-packages\\sklearn\\linear_model\\logistic.py:433: FutureWarning: Default solver will be changed to 'lbfgs' in 0.22. Specify a solver to silence this warning.\n",
      "  FutureWarning)\n",
      "C:\\Users\\nisha\\Anaconda3\\lib\\site-packages\\sklearn\\linear_model\\logistic.py:433: FutureWarning: Default solver will be changed to 'lbfgs' in 0.22. Specify a solver to silence this warning.\n",
      "  FutureWarning)\n",
      "C:\\Users\\nisha\\Anaconda3\\lib\\site-packages\\sklearn\\linear_model\\logistic.py:433: FutureWarning: Default solver will be changed to 'lbfgs' in 0.22. Specify a solver to silence this warning.\n",
      "  FutureWarning)\n"
     ]
    }
   ],
   "source": [
    "# Use GridSearchCV to find the best parameters.\n",
    "from sklearn.model_selection import GridSearchCV\n",
    "\n",
    "\n",
    "# Logistic Regression \n",
    "log_reg_params = {\"penalty\": ['l1', 'l2'], 'C': [0.001, 0.01, 0.1, 1, 10, 100, 1000]}\n",
    "\n",
    "\n",
    "\n",
    "grid_log_reg = GridSearchCV(LogisticRegression(), log_reg_params)\n",
    "grid_log_reg.fit(X1_train, y1_train)\n",
    "# We automatically get the logistic regression with the best parameters.\n",
    "log_reg = grid_log_reg.best_estimator_"
   ]
  },
  {
   "cell_type": "code",
   "execution_count": 30,
   "metadata": {},
   "outputs": [
    {
     "name": "stdout",
     "output_type": "stream",
     "text": [
      "LogisticRegression(C=1, class_weight=None, dual=False, fit_intercept=True,\n",
      "          intercept_scaling=1, max_iter=100, multi_class='warn',\n",
      "          n_jobs=None, penalty='l2', random_state=None, solver='warn',\n",
      "          tol=0.0001, verbose=0, warm_start=False)\n"
     ]
    }
   ],
   "source": [
    "print(log_reg)"
   ]
  },
  {
   "cell_type": "markdown",
   "metadata": {},
   "source": [
    "## Undersampling. Train, Valid on undersampling(50 percent valid transactions and 50 percent valid transactions) data and test on original data. Consider all features with scaled time and scaled amount and then some features using heatmap"
   ]
  },
  {
   "cell_type": "code",
   "execution_count": 31,
   "metadata": {},
   "outputs": [
    {
     "data": {
      "text/html": [
       "<div>\n",
       "<style scoped>\n",
       "    .dataframe tbody tr th:only-of-type {\n",
       "        vertical-align: middle;\n",
       "    }\n",
       "\n",
       "    .dataframe tbody tr th {\n",
       "        vertical-align: top;\n",
       "    }\n",
       "\n",
       "    .dataframe thead th {\n",
       "        text-align: right;\n",
       "    }\n",
       "</style>\n",
       "<table border=\"1\" class=\"dataframe\">\n",
       "  <thead>\n",
       "    <tr style=\"text-align: right;\">\n",
       "      <th></th>\n",
       "      <th>Time</th>\n",
       "      <th>V1</th>\n",
       "      <th>V2</th>\n",
       "      <th>V3</th>\n",
       "      <th>V4</th>\n",
       "      <th>V5</th>\n",
       "      <th>V6</th>\n",
       "      <th>V7</th>\n",
       "      <th>V8</th>\n",
       "      <th>V9</th>\n",
       "      <th>...</th>\n",
       "      <th>V23</th>\n",
       "      <th>V24</th>\n",
       "      <th>V25</th>\n",
       "      <th>V26</th>\n",
       "      <th>V27</th>\n",
       "      <th>V28</th>\n",
       "      <th>Amount</th>\n",
       "      <th>Class</th>\n",
       "      <th>scaled_amount</th>\n",
       "      <th>scaled_time</th>\n",
       "    </tr>\n",
       "  </thead>\n",
       "  <tbody>\n",
       "    <tr>\n",
       "      <th>0</th>\n",
       "      <td>58670.0</td>\n",
       "      <td>-0.854092</td>\n",
       "      <td>0.644458</td>\n",
       "      <td>1.805656</td>\n",
       "      <td>1.146369</td>\n",
       "      <td>-0.519127</td>\n",
       "      <td>1.844676</td>\n",
       "      <td>-0.935942</td>\n",
       "      <td>1.056104</td>\n",
       "      <td>0.097375</td>\n",
       "      <td>...</td>\n",
       "      <td>0.218834</td>\n",
       "      <td>-0.577043</td>\n",
       "      <td>-0.727521</td>\n",
       "      <td>0.612977</td>\n",
       "      <td>-0.219109</td>\n",
       "      <td>-0.063157</td>\n",
       "      <td>11.50</td>\n",
       "      <td>0</td>\n",
       "      <td>-0.146976</td>\n",
       "      <td>-0.305858</td>\n",
       "    </tr>\n",
       "    <tr>\n",
       "      <th>1</th>\n",
       "      <td>164361.0</td>\n",
       "      <td>-0.863534</td>\n",
       "      <td>0.291699</td>\n",
       "      <td>0.594479</td>\n",
       "      <td>-1.190707</td>\n",
       "      <td>0.117851</td>\n",
       "      <td>0.169880</td>\n",
       "      <td>0.065587</td>\n",
       "      <td>0.289947</td>\n",
       "      <td>-1.748278</td>\n",
       "      <td>...</td>\n",
       "      <td>-0.455269</td>\n",
       "      <td>0.185385</td>\n",
       "      <td>0.432974</td>\n",
       "      <td>0.931127</td>\n",
       "      <td>-0.414413</td>\n",
       "      <td>-0.284978</td>\n",
       "      <td>25.42</td>\n",
       "      <td>0</td>\n",
       "      <td>0.047872</td>\n",
       "      <td>0.933795</td>\n",
       "    </tr>\n",
       "    <tr>\n",
       "      <th>2</th>\n",
       "      <td>38767.0</td>\n",
       "      <td>-1.192107</td>\n",
       "      <td>-0.896044</td>\n",
       "      <td>1.204410</td>\n",
       "      <td>-1.593935</td>\n",
       "      <td>0.432699</td>\n",
       "      <td>-1.101769</td>\n",
       "      <td>-0.299815</td>\n",
       "      <td>0.222793</td>\n",
       "      <td>-1.320361</td>\n",
       "      <td>...</td>\n",
       "      <td>0.159099</td>\n",
       "      <td>0.215700</td>\n",
       "      <td>-0.169315</td>\n",
       "      <td>-0.320951</td>\n",
       "      <td>0.310243</td>\n",
       "      <td>0.210535</td>\n",
       "      <td>58.75</td>\n",
       "      <td>0</td>\n",
       "      <td>0.514418</td>\n",
       "      <td>-0.539301</td>\n",
       "    </tr>\n",
       "    <tr>\n",
       "      <th>3</th>\n",
       "      <td>571.0</td>\n",
       "      <td>-2.355336</td>\n",
       "      <td>2.316182</td>\n",
       "      <td>0.701735</td>\n",
       "      <td>0.174501</td>\n",
       "      <td>0.677346</td>\n",
       "      <td>1.029705</td>\n",
       "      <td>0.792868</td>\n",
       "      <td>-0.060581</td>\n",
       "      <td>1.296525</td>\n",
       "      <td>...</td>\n",
       "      <td>0.047292</td>\n",
       "      <td>-0.650140</td>\n",
       "      <td>-0.282282</td>\n",
       "      <td>-0.286391</td>\n",
       "      <td>0.335493</td>\n",
       "      <td>0.223061</td>\n",
       "      <td>2.89</td>\n",
       "      <td>0</td>\n",
       "      <td>-0.267497</td>\n",
       "      <td>-0.987303</td>\n",
       "    </tr>\n",
       "    <tr>\n",
       "      <th>4</th>\n",
       "      <td>51507.0</td>\n",
       "      <td>-1.302336</td>\n",
       "      <td>1.016359</td>\n",
       "      <td>1.007046</td>\n",
       "      <td>-0.127051</td>\n",
       "      <td>0.435740</td>\n",
       "      <td>-0.092143</td>\n",
       "      <td>0.709650</td>\n",
       "      <td>0.590142</td>\n",
       "      <td>-1.088295</td>\n",
       "      <td>...</td>\n",
       "      <td>-0.262177</td>\n",
       "      <td>-0.354871</td>\n",
       "      <td>0.680078</td>\n",
       "      <td>-0.402172</td>\n",
       "      <td>-0.111834</td>\n",
       "      <td>-0.044427</td>\n",
       "      <td>51.59</td>\n",
       "      <td>0</td>\n",
       "      <td>0.414194</td>\n",
       "      <td>-0.389873</td>\n",
       "    </tr>\n",
       "  </tbody>\n",
       "</table>\n",
       "<p>5 rows × 33 columns</p>\n",
       "</div>"
      ],
      "text/plain": [
       "       Time        V1        V2        V3        V4        V5        V6  \\\n",
       "0   58670.0 -0.854092  0.644458  1.805656  1.146369 -0.519127  1.844676   \n",
       "1  164361.0 -0.863534  0.291699  0.594479 -1.190707  0.117851  0.169880   \n",
       "2   38767.0 -1.192107 -0.896044  1.204410 -1.593935  0.432699 -1.101769   \n",
       "3     571.0 -2.355336  2.316182  0.701735  0.174501  0.677346  1.029705   \n",
       "4   51507.0 -1.302336  1.016359  1.007046 -0.127051  0.435740 -0.092143   \n",
       "\n",
       "         V7        V8        V9     ...            V23       V24       V25  \\\n",
       "0 -0.935942  1.056104  0.097375     ...       0.218834 -0.577043 -0.727521   \n",
       "1  0.065587  0.289947 -1.748278     ...      -0.455269  0.185385  0.432974   \n",
       "2 -0.299815  0.222793 -1.320361     ...       0.159099  0.215700 -0.169315   \n",
       "3  0.792868 -0.060581  1.296525     ...       0.047292 -0.650140 -0.282282   \n",
       "4  0.709650  0.590142 -1.088295     ...      -0.262177 -0.354871  0.680078   \n",
       "\n",
       "        V26       V27       V28  Amount  Class  scaled_amount  scaled_time  \n",
       "0  0.612977 -0.219109 -0.063157   11.50      0      -0.146976    -0.305858  \n",
       "1  0.931127 -0.414413 -0.284978   25.42      0       0.047872     0.933795  \n",
       "2 -0.320951  0.310243  0.210535   58.75      0       0.514418    -0.539301  \n",
       "3 -0.286391  0.335493  0.223061    2.89      0      -0.267497    -0.987303  \n",
       "4 -0.402172 -0.111834 -0.044427   51.59      0       0.414194    -0.389873  \n",
       "\n",
       "[5 rows x 33 columns]"
      ]
     },
     "execution_count": 31,
     "metadata": {},
     "output_type": "execute_result"
    }
   ],
   "source": [
    "df.head()"
   ]
  },
  {
   "cell_type": "code",
   "execution_count": 32,
   "metadata": {},
   "outputs": [
    {
     "name": "stdout",
     "output_type": "stream",
     "text": [
      "Valid transactions:  99.83 % of the dataset\n",
      "Fraud transactions:  0.17 % of the dataset\n"
     ]
    }
   ],
   "source": [
    "print('Valid transactions: ', round(df['Class'].value_counts()[0]/len(df) * 100,2), '% of the dataset')\n",
    "print('Fraud transactions: ', round(df['Class'].value_counts()[1]/len(df) * 100,2), '% of the dataset')"
   ]
  },
  {
   "cell_type": "markdown",
   "metadata": {},
   "source": [
    "### Splitting the original dataframe to train and test set. Training will be done on undersampled data while testing will be done on the original data. The original data consists of 99.83% of valid transactions and 0.17% of fraud transactions. While splitting the original dataframe, the train and test set should also constitute the same percent of transactions that is, train and test should contain 99.83% of valid transactions and 0.17% of fraud transactions"
   ]
  },
  {
   "cell_type": "code",
   "execution_count": 33,
   "metadata": {},
   "outputs": [
    {
     "name": "stdout",
     "output_type": "stream",
     "text": [
      "Train: [184623  97995  61984 ... 175474  76784 227996] Test: [166702  94440  52262 ...  20546 112619  55182]\n",
      "Train: [ 67075 144760 206794 ... 243879 138567 228701] Test: [ 36042 134045   2607 ... 108669 211559 206099]\n",
      "Train: [240586 173314 237080 ... 213303 138286 209048] Test: [149240 185126 146539 ... 220737 133447  46881]\n",
      "Train: [ 21344 174936  35580 ... 233500 240506  76344] Test: [188970  43725 194649 ... 190579 105042 180161]\n",
      "Train: [163777 116355 179181 ...  96973  28549 135673] Test: [221422 232206 205998 ...  20636  62768  99196]\n",
      "----------------------------------------------------------------------------------------------------\n",
      "Label Distributions: \n",
      "\n",
      "[0.99827415 0.00172585]\n",
      "[0.99828438 0.00171562]\n"
     ]
    }
   ],
   "source": [
    "from sklearn.model_selection import train_test_split\n",
    "from sklearn.model_selection import StratifiedShuffleSplit\n",
    "\n",
    "X = df[scaled_features]\n",
    "y = df['Class']\n",
    "\n",
    "sss = StratifiedShuffleSplit(n_splits=5, test_size=0.2, random_state=42)\n",
    "\n",
    "for train_index, test_index in sss.split(X, y):\n",
    "    print(\"Train:\", train_index, \"Test:\", test_index)\n",
    "    original_Xtrain, original_Xtest = X.iloc[train_index], X.iloc[test_index]\n",
    "    original_ytrain, original_ytest = y.iloc[train_index], y.iloc[test_index]\n",
    "\n",
    "# We already have X_train and y_train for undersample data thats why I am using original to distinguish and to not overwrite these variables.\n",
    "# original_Xtrain, original_Xtest, original_ytrain, original_ytest = train_test_split(X, y, test_size=0.2, random_state=42)\n",
    "\n",
    "# Check the Distribution of the labels\n",
    "\n",
    "\n",
    "# Turn into an array\n",
    "original_Xtrain = original_Xtrain.values\n",
    "original_Xtest = original_Xtest.values\n",
    "original_ytrain = original_ytrain.values\n",
    "original_ytest = original_ytest.values\n",
    "\n",
    "# See if both the train and test label distribution are similarly distributed\n",
    "train_unique_label, train_counts_label = np.unique(original_ytrain, return_counts=True)\n",
    "test_unique_label, test_counts_label = np.unique(original_ytest, return_counts=True)\n",
    "print('-' * 100)\n",
    "\n",
    "print('Label Distributions: \\n')\n",
    "print(train_counts_label/ len(original_ytrain))\n",
    "print(test_counts_label/ len(original_ytest))"
   ]
  },
  {
   "cell_type": "markdown",
   "metadata": {},
   "source": [
    "### Classes are highly skewed. We should make them equivalent in order to have a normal distribution of the classes. Shuffle the data before creating the subsamples "
   ]
  },
  {
   "cell_type": "code",
   "execution_count": 34,
   "metadata": {},
   "outputs": [
    {
     "data": {
      "text/html": [
       "<div>\n",
       "<style scoped>\n",
       "    .dataframe tbody tr th:only-of-type {\n",
       "        vertical-align: middle;\n",
       "    }\n",
       "\n",
       "    .dataframe tbody tr th {\n",
       "        vertical-align: top;\n",
       "    }\n",
       "\n",
       "    .dataframe thead th {\n",
       "        text-align: right;\n",
       "    }\n",
       "</style>\n",
       "<table border=\"1\" class=\"dataframe\">\n",
       "  <thead>\n",
       "    <tr style=\"text-align: right;\">\n",
       "      <th></th>\n",
       "      <th>Time</th>\n",
       "      <th>V1</th>\n",
       "      <th>V2</th>\n",
       "      <th>V3</th>\n",
       "      <th>V4</th>\n",
       "      <th>V5</th>\n",
       "      <th>V6</th>\n",
       "      <th>V7</th>\n",
       "      <th>V8</th>\n",
       "      <th>V9</th>\n",
       "      <th>...</th>\n",
       "      <th>V23</th>\n",
       "      <th>V24</th>\n",
       "      <th>V25</th>\n",
       "      <th>V26</th>\n",
       "      <th>V27</th>\n",
       "      <th>V28</th>\n",
       "      <th>Amount</th>\n",
       "      <th>Class</th>\n",
       "      <th>scaled_amount</th>\n",
       "      <th>scaled_time</th>\n",
       "    </tr>\n",
       "  </thead>\n",
       "  <tbody>\n",
       "    <tr>\n",
       "      <th>189382</th>\n",
       "      <td>123157.0</td>\n",
       "      <td>-0.796959</td>\n",
       "      <td>0.036784</td>\n",
       "      <td>0.300988</td>\n",
       "      <td>-4.038641</td>\n",
       "      <td>2.431153</td>\n",
       "      <td>3.417907</td>\n",
       "      <td>-0.014249</td>\n",
       "      <td>1.046442</td>\n",
       "      <td>0.884941</td>\n",
       "      <td>...</td>\n",
       "      <td>-0.224031</td>\n",
       "      <td>0.681166</td>\n",
       "      <td>0.495107</td>\n",
       "      <td>-0.500328</td>\n",
       "      <td>0.049960</td>\n",
       "      <td>0.052241</td>\n",
       "      <td>9.15</td>\n",
       "      <td>0</td>\n",
       "      <td>-0.179871</td>\n",
       "      <td>0.450512</td>\n",
       "    </tr>\n",
       "    <tr>\n",
       "      <th>241486</th>\n",
       "      <td>50808.0</td>\n",
       "      <td>-9.169790</td>\n",
       "      <td>7.092197</td>\n",
       "      <td>-12.354037</td>\n",
       "      <td>4.243069</td>\n",
       "      <td>-7.176438</td>\n",
       "      <td>-3.386618</td>\n",
       "      <td>-8.058012</td>\n",
       "      <td>6.442909</td>\n",
       "      <td>-2.412987</td>\n",
       "      <td>...</td>\n",
       "      <td>-0.150434</td>\n",
       "      <td>-0.039383</td>\n",
       "      <td>0.485640</td>\n",
       "      <td>-0.264325</td>\n",
       "      <td>1.159690</td>\n",
       "      <td>0.232758</td>\n",
       "      <td>99.99</td>\n",
       "      <td>1</td>\n",
       "      <td>1.091685</td>\n",
       "      <td>-0.398072</td>\n",
       "    </tr>\n",
       "    <tr>\n",
       "      <th>229150</th>\n",
       "      <td>86712.0</td>\n",
       "      <td>-0.224925</td>\n",
       "      <td>0.836681</td>\n",
       "      <td>0.314169</td>\n",
       "      <td>-0.717730</td>\n",
       "      <td>0.871523</td>\n",
       "      <td>-1.203708</td>\n",
       "      <td>1.282224</td>\n",
       "      <td>-0.635885</td>\n",
       "      <td>0.089081</td>\n",
       "      <td>...</td>\n",
       "      <td>-0.282279</td>\n",
       "      <td>0.027950</td>\n",
       "      <td>-0.469168</td>\n",
       "      <td>-0.296015</td>\n",
       "      <td>-0.234460</td>\n",
       "      <td>0.020326</td>\n",
       "      <td>0.76</td>\n",
       "      <td>0</td>\n",
       "      <td>-0.297312</td>\n",
       "      <td>0.023048</td>\n",
       "    </tr>\n",
       "    <tr>\n",
       "      <th>136569</th>\n",
       "      <td>16259.0</td>\n",
       "      <td>1.260486</td>\n",
       "      <td>-0.040965</td>\n",
       "      <td>0.255463</td>\n",
       "      <td>0.717141</td>\n",
       "      <td>-0.021404</td>\n",
       "      <td>0.419794</td>\n",
       "      <td>-0.410296</td>\n",
       "      <td>0.091152</td>\n",
       "      <td>1.864156</td>\n",
       "      <td>...</td>\n",
       "      <td>-0.224961</td>\n",
       "      <td>-0.850153</td>\n",
       "      <td>0.655915</td>\n",
       "      <td>0.456968</td>\n",
       "      <td>-0.054734</td>\n",
       "      <td>-0.018903</td>\n",
       "      <td>9.99</td>\n",
       "      <td>0</td>\n",
       "      <td>-0.168113</td>\n",
       "      <td>-0.803298</td>\n",
       "    </tr>\n",
       "    <tr>\n",
       "      <th>95815</th>\n",
       "      <td>78725.0</td>\n",
       "      <td>-4.312479</td>\n",
       "      <td>1.886476</td>\n",
       "      <td>-2.338634</td>\n",
       "      <td>-0.475243</td>\n",
       "      <td>-1.185444</td>\n",
       "      <td>-2.112079</td>\n",
       "      <td>-2.122793</td>\n",
       "      <td>0.272565</td>\n",
       "      <td>0.290273</td>\n",
       "      <td>...</td>\n",
       "      <td>-1.114692</td>\n",
       "      <td>0.269069</td>\n",
       "      <td>-0.020572</td>\n",
       "      <td>-0.963489</td>\n",
       "      <td>-0.918888</td>\n",
       "      <td>0.001454</td>\n",
       "      <td>60.00</td>\n",
       "      <td>1</td>\n",
       "      <td>0.531915</td>\n",
       "      <td>-0.070632</td>\n",
       "    </tr>\n",
       "  </tbody>\n",
       "</table>\n",
       "<p>5 rows × 33 columns</p>\n",
       "</div>"
      ],
      "text/plain": [
       "            Time        V1        V2         V3        V4        V5        V6  \\\n",
       "189382  123157.0 -0.796959  0.036784   0.300988 -4.038641  2.431153  3.417907   \n",
       "241486   50808.0 -9.169790  7.092197 -12.354037  4.243069 -7.176438 -3.386618   \n",
       "229150   86712.0 -0.224925  0.836681   0.314169 -0.717730  0.871523 -1.203708   \n",
       "136569   16259.0  1.260486 -0.040965   0.255463  0.717141 -0.021404  0.419794   \n",
       "95815    78725.0 -4.312479  1.886476  -2.338634 -0.475243 -1.185444 -2.112079   \n",
       "\n",
       "              V7        V8        V9     ...            V23       V24  \\\n",
       "189382 -0.014249  1.046442  0.884941     ...      -0.224031  0.681166   \n",
       "241486 -8.058012  6.442909 -2.412987     ...      -0.150434 -0.039383   \n",
       "229150  1.282224 -0.635885  0.089081     ...      -0.282279  0.027950   \n",
       "136569 -0.410296  0.091152  1.864156     ...      -0.224961 -0.850153   \n",
       "95815  -2.122793  0.272565  0.290273     ...      -1.114692  0.269069   \n",
       "\n",
       "             V25       V26       V27       V28  Amount  Class  scaled_amount  \\\n",
       "189382  0.495107 -0.500328  0.049960  0.052241    9.15      0      -0.179871   \n",
       "241486  0.485640 -0.264325  1.159690  0.232758   99.99      1       1.091685   \n",
       "229150 -0.469168 -0.296015 -0.234460  0.020326    0.76      0      -0.297312   \n",
       "136569  0.655915  0.456968 -0.054734 -0.018903    9.99      0      -0.168113   \n",
       "95815  -0.020572 -0.963489 -0.918888  0.001454   60.00      1       0.531915   \n",
       "\n",
       "        scaled_time  \n",
       "189382     0.450512  \n",
       "241486    -0.398072  \n",
       "229150     0.023048  \n",
       "136569    -0.803298  \n",
       "95815     -0.070632  \n",
       "\n",
       "[5 rows x 33 columns]"
      ]
     },
     "execution_count": 34,
     "metadata": {},
     "output_type": "execute_result"
    }
   ],
   "source": [
    "df = df.sample(frac=1)\n",
    "\n",
    "# amount of fraud classes 422 rows.\n",
    "fraud_df = df.loc[df['Class'] == 1]\n",
    "non_fraud_df = df.loc[df['Class'] == 0][:422]\n",
    "\n",
    "normal_distributed_df = pd.concat([fraud_df, non_fraud_df])\n",
    "\n",
    "# Shuffle dataframe rows\n",
    "new_df = normal_distributed_df.sample(frac=1, random_state=42)\n",
    "\n",
    "new_df.head()"
   ]
  },
  {
   "cell_type": "code",
   "execution_count": 35,
   "metadata": {},
   "outputs": [
    {
     "data": {
      "text/plain": [
       "(844, 33)"
      ]
     },
     "execution_count": 35,
     "metadata": {},
     "output_type": "execute_result"
    }
   ],
   "source": [
    "new_df.shape"
   ]
  },
  {
   "cell_type": "code",
   "execution_count": 36,
   "metadata": {},
   "outputs": [
    {
     "name": "stdout",
     "output_type": "stream",
     "text": [
      "Distribution of the Classes in the subsample(undersampled) dataset\n",
      "1    0.5\n",
      "0    0.5\n",
      "Name: Class, dtype: float64\n"
     ]
    },
    {
     "data": {
      "image/png": "[encoded data removed]",
      "text/plain": [
       "<Figure size 432x288 with 1 Axes>"
      ]
     },
     "metadata": {
      "needs_background": "light"
     },
     "output_type": "display_data"
    }
   ],
   "source": [
    "print('Distribution of the Classes in the subsample(undersampled) dataset')\n",
    "print(new_df['Class'].value_counts()/len(new_df))\n",
    "sns.countplot('Class', data=new_df)\n",
    "plt.title('Classes', fontsize=14)\n",
    "plt.show()"
   ]
  },
  {
   "cell_type": "markdown",
   "metadata": {},
   "source": [
    "## Correlation Matrices"
   ]
  },
  {
   "cell_type": "code",
   "execution_count": 37,
   "metadata": {},
   "outputs": [
    {
     "data": {
      "image/png": "[encoded data removed]",
      "text/plain": [
       "<Figure size 1728x1440 with 4 Axes>"
      ]
     },
     "metadata": {
      "needs_background": "light"
     },
     "output_type": "display_data"
    }
   ],
   "source": [
    "f, (ax1, ax2) = plt.subplots(2, 1, figsize=(24,20))\n",
    "\n",
    "# Entire DataFrame\n",
    "corr = df.corr()\n",
    "sns.heatmap(corr, cmap='coolwarm_r', annot_kws={'size':20}, ax=ax1)\n",
    "ax1.set_title(\"Imbalanced Correlation Matrix \\n (don't use for reference)\", fontsize=14)\n",
    "\n",
    "\n",
    "sub_sample_corr = new_df.corr()\n",
    "sns.heatmap(sub_sample_corr, cmap='coolwarm_r', annot_kws={'size':20}, ax=ax2)\n",
    "ax2.set_title('SubSample Correlation Matrix \\n (use for reference)', fontsize=14)\n",
    "plt.show()"
   ]
  },
  {
   "cell_type": "markdown",
   "metadata": {},
   "source": [
    "### Strong Negative correlation: V10, V12, V14, V16, V17     Positive correlation: V2, V4, V11, V19 Now plot boxplots for relation between the features and the Class"
   ]
  },
  {
   "cell_type": "code",
   "execution_count": 38,
   "metadata": {},
   "outputs": [
    {
     "data": {
      "image/png": "[encoded data removed]",
      "text/plain": [
       "<Figure size 1440x288 with 5 Axes>"
      ]
     },
     "metadata": {
      "needs_background": "light"
     },
     "output_type": "display_data"
    }
   ],
   "source": [
    "f, axes = plt.subplots(ncols=5, figsize=(20,4))\n",
    "\n",
    "# Negative Correlations with our Class (The lower our feature value the more likely it will be a fraud transaction)\n",
    "sns.boxplot(x=\"Class\", y=\"V17\", data=new_df, ax=axes[0])\n",
    "axes[0].set_title('V17 vs Class Negative Correlation')\n",
    "\n",
    "sns.boxplot(x=\"Class\", y=\"V16\", data=new_df, ax=axes[1])\n",
    "axes[1].set_title('V16 vs Class Negative Correlation')\n",
    "\n",
    "sns.boxplot(x=\"Class\", y=\"V14\", data=new_df, ax=axes[2])\n",
    "axes[2].set_title('V14 vs Class Negative Correlation')\n",
    "\n",
    "sns.boxplot(x=\"Class\", y=\"V12\", data=new_df, ax=axes[3])\n",
    "axes[3].set_title('V12 vs Class Negative Correlation')\n",
    "\n",
    "sns.boxplot(x=\"Class\", y=\"V10\", data=new_df, ax=axes[4])\n",
    "axes[4].set_title('V10 vs Class Negative Correlation')\n",
    "\n",
    "plt.show()"
   ]
  },
  {
   "cell_type": "code",
   "execution_count": 39,
   "metadata": {},
   "outputs": [
    {
     "data": {
      "image/png": "[encoded data removed]",
      "text/plain": [
       "<Figure size 1440x288 with 4 Axes>"
      ]
     },
     "metadata": {
      "needs_background": "light"
     },
     "output_type": "display_data"
    }
   ],
   "source": [
    "f, axes = plt.subplots(ncols=4, figsize=(20,4))\n",
    "\n",
    "# Positive correlations (The higher the feature the probability increases that it will be a fraud transaction)\n",
    "sns.boxplot(x=\"Class\", y=\"V11\", data=new_df, ax=axes[0])\n",
    "axes[0].set_title('V11 vs Class Positive Correlation')\n",
    "\n",
    "sns.boxplot(x=\"Class\", y=\"V4\", data=new_df, ax=axes[1])\n",
    "axes[1].set_title('V4 vs Class Positive Correlation')\n",
    "\n",
    "\n",
    "sns.boxplot(x=\"Class\", y=\"V2\", data=new_df, ax=axes[2])\n",
    "axes[2].set_title('V2 vs Class Positive Correlation')\n",
    "\n",
    "\n",
    "sns.boxplot(x=\"Class\", y=\"V19\", data=new_df, ax=axes[3])\n",
    "axes[3].set_title('V19 vs Class Positive Correlation')\n",
    "\n",
    "plt.show()"
   ]
  },
  {
   "cell_type": "code",
   "execution_count": 40,
   "metadata": {},
   "outputs": [
    {
     "name": "stderr",
     "output_type": "stream",
     "text": [
      "C:\\Users\\nisha\\Anaconda3\\lib\\site-packages\\scipy\\stats\\stats.py:1713: FutureWarning: Using a non-tuple sequence for multidimensional indexing is deprecated; use `arr[tuple(seq)]` instead of `arr[seq]`. In the future this will be interpreted as an array index, `arr[np.array(seq)]`, which will result either in an error or a different result.\n",
      "  return np.add.reduce(sorted[indexer] * weights, axis=axis) / sumval\n"
     ]
    },
    {
     "data": {
      "image/png": "[encoded data removed]",
      "text/plain": [
       "<Figure size 1440x432 with 3 Axes>"
      ]
     },
     "metadata": {
      "needs_background": "light"
     },
     "output_type": "display_data"
    }
   ],
   "source": [
    "from scipy.stats import norm\n",
    "\n",
    "f, (ax1, ax2, ax3) = plt.subplots(1,3, figsize=(20, 6))\n",
    "\n",
    "v14_fraud_dist = new_df['V14'].loc[new_df['Class'] == 1].values\n",
    "sns.distplot(v14_fraud_dist,ax=ax1, fit=norm, color='#FB8861')\n",
    "ax1.set_title('V14 Distribution \\n (Fraud Transactions)', fontsize=14)\n",
    "\n",
    "v12_fraud_dist = new_df['V12'].loc[new_df['Class'] == 1].values\n",
    "sns.distplot(v12_fraud_dist,ax=ax2, fit=norm, color='#56F9BB')\n",
    "ax2.set_title('V12 Distribution \\n (Fraud Transactions)', fontsize=14)\n",
    "\n",
    "\n",
    "v10_fraud_dist = new_df['V10'].loc[new_df['Class'] == 1].values\n",
    "sns.distplot(v10_fraud_dist,ax=ax3, fit=norm, color='#C5B3F9')\n",
    "ax3.set_title('V10 Distribution \\n (Fraud Transactions)', fontsize=14)\n",
    "\n",
    "plt.show()"
   ]
  },
  {
   "cell_type": "markdown",
   "metadata": {},
   "source": [
    "## Outliers haven't been removed yet. Undersampling"
   ]
  },
  {
   "cell_type": "code",
   "execution_count": 41,
   "metadata": {},
   "outputs": [
    {
     "data": {
      "text/html": [
       "<div>\n",
       "<style scoped>\n",
       "    .dataframe tbody tr th:only-of-type {\n",
       "        vertical-align: middle;\n",
       "    }\n",
       "\n",
       "    .dataframe tbody tr th {\n",
       "        vertical-align: top;\n",
       "    }\n",
       "\n",
       "    .dataframe thead th {\n",
       "        text-align: right;\n",
       "    }\n",
       "</style>\n",
       "<table border=\"1\" class=\"dataframe\">\n",
       "  <thead>\n",
       "    <tr style=\"text-align: right;\">\n",
       "      <th></th>\n",
       "      <th>Time</th>\n",
       "      <th>V1</th>\n",
       "      <th>V2</th>\n",
       "      <th>V3</th>\n",
       "      <th>V4</th>\n",
       "      <th>V5</th>\n",
       "      <th>V6</th>\n",
       "      <th>V7</th>\n",
       "      <th>V8</th>\n",
       "      <th>V9</th>\n",
       "      <th>...</th>\n",
       "      <th>V23</th>\n",
       "      <th>V24</th>\n",
       "      <th>V25</th>\n",
       "      <th>V26</th>\n",
       "      <th>V27</th>\n",
       "      <th>V28</th>\n",
       "      <th>Amount</th>\n",
       "      <th>Class</th>\n",
       "      <th>scaled_amount</th>\n",
       "      <th>scaled_time</th>\n",
       "    </tr>\n",
       "  </thead>\n",
       "  <tbody>\n",
       "    <tr>\n",
       "      <th>189382</th>\n",
       "      <td>123157.0</td>\n",
       "      <td>-0.796959</td>\n",
       "      <td>0.036784</td>\n",
       "      <td>0.300988</td>\n",
       "      <td>-4.038641</td>\n",
       "      <td>2.431153</td>\n",
       "      <td>3.417907</td>\n",
       "      <td>-0.014249</td>\n",
       "      <td>1.046442</td>\n",
       "      <td>0.884941</td>\n",
       "      <td>...</td>\n",
       "      <td>-0.224031</td>\n",
       "      <td>0.681166</td>\n",
       "      <td>0.495107</td>\n",
       "      <td>-0.500328</td>\n",
       "      <td>0.049960</td>\n",
       "      <td>0.052241</td>\n",
       "      <td>9.15</td>\n",
       "      <td>0</td>\n",
       "      <td>-0.179871</td>\n",
       "      <td>0.450512</td>\n",
       "    </tr>\n",
       "    <tr>\n",
       "      <th>241486</th>\n",
       "      <td>50808.0</td>\n",
       "      <td>-9.169790</td>\n",
       "      <td>7.092197</td>\n",
       "      <td>-12.354037</td>\n",
       "      <td>4.243069</td>\n",
       "      <td>-7.176438</td>\n",
       "      <td>-3.386618</td>\n",
       "      <td>-8.058012</td>\n",
       "      <td>6.442909</td>\n",
       "      <td>-2.412987</td>\n",
       "      <td>...</td>\n",
       "      <td>-0.150434</td>\n",
       "      <td>-0.039383</td>\n",
       "      <td>0.485640</td>\n",
       "      <td>-0.264325</td>\n",
       "      <td>1.159690</td>\n",
       "      <td>0.232758</td>\n",
       "      <td>99.99</td>\n",
       "      <td>1</td>\n",
       "      <td>1.091685</td>\n",
       "      <td>-0.398072</td>\n",
       "    </tr>\n",
       "    <tr>\n",
       "      <th>229150</th>\n",
       "      <td>86712.0</td>\n",
       "      <td>-0.224925</td>\n",
       "      <td>0.836681</td>\n",
       "      <td>0.314169</td>\n",
       "      <td>-0.717730</td>\n",
       "      <td>0.871523</td>\n",
       "      <td>-1.203708</td>\n",
       "      <td>1.282224</td>\n",
       "      <td>-0.635885</td>\n",
       "      <td>0.089081</td>\n",
       "      <td>...</td>\n",
       "      <td>-0.282279</td>\n",
       "      <td>0.027950</td>\n",
       "      <td>-0.469168</td>\n",
       "      <td>-0.296015</td>\n",
       "      <td>-0.234460</td>\n",
       "      <td>0.020326</td>\n",
       "      <td>0.76</td>\n",
       "      <td>0</td>\n",
       "      <td>-0.297312</td>\n",
       "      <td>0.023048</td>\n",
       "    </tr>\n",
       "    <tr>\n",
       "      <th>136569</th>\n",
       "      <td>16259.0</td>\n",
       "      <td>1.260486</td>\n",
       "      <td>-0.040965</td>\n",
       "      <td>0.255463</td>\n",
       "      <td>0.717141</td>\n",
       "      <td>-0.021404</td>\n",
       "      <td>0.419794</td>\n",
       "      <td>-0.410296</td>\n",
       "      <td>0.091152</td>\n",
       "      <td>1.864156</td>\n",
       "      <td>...</td>\n",
       "      <td>-0.224961</td>\n",
       "      <td>-0.850153</td>\n",
       "      <td>0.655915</td>\n",
       "      <td>0.456968</td>\n",
       "      <td>-0.054734</td>\n",
       "      <td>-0.018903</td>\n",
       "      <td>9.99</td>\n",
       "      <td>0</td>\n",
       "      <td>-0.168113</td>\n",
       "      <td>-0.803298</td>\n",
       "    </tr>\n",
       "    <tr>\n",
       "      <th>95815</th>\n",
       "      <td>78725.0</td>\n",
       "      <td>-4.312479</td>\n",
       "      <td>1.886476</td>\n",
       "      <td>-2.338634</td>\n",
       "      <td>-0.475243</td>\n",
       "      <td>-1.185444</td>\n",
       "      <td>-2.112079</td>\n",
       "      <td>-2.122793</td>\n",
       "      <td>0.272565</td>\n",
       "      <td>0.290273</td>\n",
       "      <td>...</td>\n",
       "      <td>-1.114692</td>\n",
       "      <td>0.269069</td>\n",
       "      <td>-0.020572</td>\n",
       "      <td>-0.963489</td>\n",
       "      <td>-0.918888</td>\n",
       "      <td>0.001454</td>\n",
       "      <td>60.00</td>\n",
       "      <td>1</td>\n",
       "      <td>0.531915</td>\n",
       "      <td>-0.070632</td>\n",
       "    </tr>\n",
       "  </tbody>\n",
       "</table>\n",
       "<p>5 rows × 33 columns</p>\n",
       "</div>"
      ],
      "text/plain": [
       "            Time        V1        V2         V3        V4        V5        V6  \\\n",
       "189382  123157.0 -0.796959  0.036784   0.300988 -4.038641  2.431153  3.417907   \n",
       "241486   50808.0 -9.169790  7.092197 -12.354037  4.243069 -7.176438 -3.386618   \n",
       "229150   86712.0 -0.224925  0.836681   0.314169 -0.717730  0.871523 -1.203708   \n",
       "136569   16259.0  1.260486 -0.040965   0.255463  0.717141 -0.021404  0.419794   \n",
       "95815    78725.0 -4.312479  1.886476  -2.338634 -0.475243 -1.185444 -2.112079   \n",
       "\n",
       "              V7        V8        V9     ...            V23       V24  \\\n",
       "189382 -0.014249  1.046442  0.884941     ...      -0.224031  0.681166   \n",
       "241486 -8.058012  6.442909 -2.412987     ...      -0.150434 -0.039383   \n",
       "229150  1.282224 -0.635885  0.089081     ...      -0.282279  0.027950   \n",
       "136569 -0.410296  0.091152  1.864156     ...      -0.224961 -0.850153   \n",
       "95815  -2.122793  0.272565  0.290273     ...      -1.114692  0.269069   \n",
       "\n",
       "             V25       V26       V27       V28  Amount  Class  scaled_amount  \\\n",
       "189382  0.495107 -0.500328  0.049960  0.052241    9.15      0      -0.179871   \n",
       "241486  0.485640 -0.264325  1.159690  0.232758   99.99      1       1.091685   \n",
       "229150 -0.469168 -0.296015 -0.234460  0.020326    0.76      0      -0.297312   \n",
       "136569  0.655915  0.456968 -0.054734 -0.018903    9.99      0      -0.168113   \n",
       "95815  -0.020572 -0.963489 -0.918888  0.001454   60.00      1       0.531915   \n",
       "\n",
       "        scaled_time  \n",
       "189382     0.450512  \n",
       "241486    -0.398072  \n",
       "229150     0.023048  \n",
       "136569    -0.803298  \n",
       "95815     -0.070632  \n",
       "\n",
       "[5 rows x 33 columns]"
      ]
     },
     "execution_count": 41,
     "metadata": {},
     "output_type": "execute_result"
    }
   ],
   "source": [
    "new_df.head()"
   ]
  },
  {
   "cell_type": "code",
   "execution_count": 42,
   "metadata": {},
   "outputs": [],
   "source": [
    "X2 = new_df[scaled_features]\n",
    "y2 = new_df['Class']"
   ]
  },
  {
   "cell_type": "code",
   "execution_count": 43,
   "metadata": {},
   "outputs": [],
   "source": [
    "# Our data is already scaled we should split our training and test sets\n",
    "from sklearn.model_selection import train_test_split\n",
    "\n",
    "# This is explicitly used for undersampling.\n",
    "X2_train, X2_test, y2_train, y2_test = train_test_split(X2, y2, test_size=0.2, random_state=42)"
   ]
  },
  {
   "cell_type": "code",
   "execution_count": 44,
   "metadata": {},
   "outputs": [
    {
     "name": "stderr",
     "output_type": "stream",
     "text": [
      "C:\\Users\\nisha\\Anaconda3\\lib\\site-packages\\sklearn\\linear_model\\logistic.py:433: FutureWarning: Default solver will be changed to 'lbfgs' in 0.22. Specify a solver to silence this warning.\n",
      "  FutureWarning)\n"
     ]
    },
    {
     "data": {
      "text/plain": [
       "'\\nplot_auc_curve(logreg, X2_test, y2_test)\\nFind_Optimal_Cutoff(logreg, X2_test, y2_test)\\nprint_accurcay_metrics(logreg, X2_test, y2_test, 0.50)\\n'"
      ]
     },
     "execution_count": 44,
     "metadata": {},
     "output_type": "execute_result"
    }
   ],
   "source": [
    "logreg = LogisticRegression()\n",
    "model_training(logreg, X2_train, y2_train)\n",
    "\n",
    "#threshold = 0.5\n",
    "'''\n",
    "plot_auc_curve(logreg, X2_test, y2_test)\n",
    "Find_Optimal_Cutoff(logreg, X2_test, y2_test)\n",
    "print_accurcay_metrics(logreg, X2_test, y2_test, 0.50)\n",
    "'''"
   ]
  },
  {
   "cell_type": "code",
   "execution_count": 45,
   "metadata": {},
   "outputs": [
    {
     "name": "stderr",
     "output_type": "stream",
     "text": [
      "C:\\Users\\nisha\\Anaconda3\\lib\\site-packages\\sklearn\\model_selection\\_split.py:2053: FutureWarning: You should specify a value for 'cv' instead of relying on the default value. The default value will change from 3 to 5 in version 0.22.\n",
      "  warnings.warn(CV_WARNING, FutureWarning)\n",
      "C:\\Users\\nisha\\Anaconda3\\lib\\site-packages\\sklearn\\linear_model\\logistic.py:433: FutureWarning: Default solver will be changed to 'lbfgs' in 0.22. Specify a solver to silence this warning.\n",
      "  FutureWarning)\n",
      "C:\\Users\\nisha\\Anaconda3\\lib\\site-packages\\sklearn\\linear_model\\logistic.py:433: FutureWarning: Default solver will be changed to 'lbfgs' in 0.22. Specify a solver to silence this warning.\n",
      "  FutureWarning)\n",
      "C:\\Users\\nisha\\Anaconda3\\lib\\site-packages\\sklearn\\linear_model\\logistic.py:433: FutureWarning: Default solver will be changed to 'lbfgs' in 0.22. Specify a solver to silence this warning.\n",
      "  FutureWarning)\n",
      "C:\\Users\\nisha\\Anaconda3\\lib\\site-packages\\sklearn\\linear_model\\logistic.py:433: FutureWarning: Default solver will be changed to 'lbfgs' in 0.22. Specify a solver to silence this warning.\n",
      "  FutureWarning)\n",
      "C:\\Users\\nisha\\Anaconda3\\lib\\site-packages\\sklearn\\linear_model\\logistic.py:433: FutureWarning: Default solver will be changed to 'lbfgs' in 0.22. Specify a solver to silence this warning.\n",
      "  FutureWarning)\n",
      "C:\\Users\\nisha\\Anaconda3\\lib\\site-packages\\sklearn\\linear_model\\logistic.py:433: FutureWarning: Default solver will be changed to 'lbfgs' in 0.22. Specify a solver to silence this warning.\n",
      "  FutureWarning)\n",
      "C:\\Users\\nisha\\Anaconda3\\lib\\site-packages\\sklearn\\linear_model\\logistic.py:433: FutureWarning: Default solver will be changed to 'lbfgs' in 0.22. Specify a solver to silence this warning.\n",
      "  FutureWarning)\n",
      "C:\\Users\\nisha\\Anaconda3\\lib\\site-packages\\sklearn\\linear_model\\logistic.py:433: FutureWarning: Default solver will be changed to 'lbfgs' in 0.22. Specify a solver to silence this warning.\n",
      "  FutureWarning)\n",
      "C:\\Users\\nisha\\Anaconda3\\lib\\site-packages\\sklearn\\linear_model\\logistic.py:433: FutureWarning: Default solver will be changed to 'lbfgs' in 0.22. Specify a solver to silence this warning.\n",
      "  FutureWarning)\n",
      "C:\\Users\\nisha\\Anaconda3\\lib\\site-packages\\sklearn\\linear_model\\logistic.py:433: FutureWarning: Default solver will be changed to 'lbfgs' in 0.22. Specify a solver to silence this warning.\n",
      "  FutureWarning)\n",
      "C:\\Users\\nisha\\Anaconda3\\lib\\site-packages\\sklearn\\linear_model\\logistic.py:433: FutureWarning: Default solver will be changed to 'lbfgs' in 0.22. Specify a solver to silence this warning.\n",
      "  FutureWarning)\n",
      "C:\\Users\\nisha\\Anaconda3\\lib\\site-packages\\sklearn\\linear_model\\logistic.py:433: FutureWarning: Default solver will be changed to 'lbfgs' in 0.22. Specify a solver to silence this warning.\n",
      "  FutureWarning)\n",
      "C:\\Users\\nisha\\Anaconda3\\lib\\site-packages\\sklearn\\linear_model\\logistic.py:433: FutureWarning: Default solver will be changed to 'lbfgs' in 0.22. Specify a solver to silence this warning.\n",
      "  FutureWarning)\n",
      "C:\\Users\\nisha\\Anaconda3\\lib\\site-packages\\sklearn\\linear_model\\logistic.py:433: FutureWarning: Default solver will be changed to 'lbfgs' in 0.22. Specify a solver to silence this warning.\n",
      "  FutureWarning)\n",
      "C:\\Users\\nisha\\Anaconda3\\lib\\site-packages\\sklearn\\linear_model\\logistic.py:433: FutureWarning: Default solver will be changed to 'lbfgs' in 0.22. Specify a solver to silence this warning.\n",
      "  FutureWarning)\n",
      "C:\\Users\\nisha\\Anaconda3\\lib\\site-packages\\sklearn\\linear_model\\logistic.py:433: FutureWarning: Default solver will be changed to 'lbfgs' in 0.22. Specify a solver to silence this warning.\n",
      "  FutureWarning)\n",
      "C:\\Users\\nisha\\Anaconda3\\lib\\site-packages\\sklearn\\linear_model\\logistic.py:433: FutureWarning: Default solver will be changed to 'lbfgs' in 0.22. Specify a solver to silence this warning.\n",
      "  FutureWarning)\n",
      "C:\\Users\\nisha\\Anaconda3\\lib\\site-packages\\sklearn\\linear_model\\logistic.py:433: FutureWarning: Default solver will be changed to 'lbfgs' in 0.22. Specify a solver to silence this warning.\n",
      "  FutureWarning)\n",
      "C:\\Users\\nisha\\Anaconda3\\lib\\site-packages\\sklearn\\linear_model\\logistic.py:433: FutureWarning: Default solver will be changed to 'lbfgs' in 0.22. Specify a solver to silence this warning.\n",
      "  FutureWarning)\n",
      "C:\\Users\\nisha\\Anaconda3\\lib\\site-packages\\sklearn\\linear_model\\logistic.py:433: FutureWarning: Default solver will be changed to 'lbfgs' in 0.22. Specify a solver to silence this warning.\n",
      "  FutureWarning)\n",
      "C:\\Users\\nisha\\Anaconda3\\lib\\site-packages\\sklearn\\linear_model\\logistic.py:433: FutureWarning: Default solver will be changed to 'lbfgs' in 0.22. Specify a solver to silence this warning.\n",
      "  FutureWarning)\n",
      "C:\\Users\\nisha\\Anaconda3\\lib\\site-packages\\sklearn\\linear_model\\logistic.py:433: FutureWarning: Default solver will be changed to 'lbfgs' in 0.22. Specify a solver to silence this warning.\n",
      "  FutureWarning)\n",
      "C:\\Users\\nisha\\Anaconda3\\lib\\site-packages\\sklearn\\linear_model\\logistic.py:433: FutureWarning: Default solver will be changed to 'lbfgs' in 0.22. Specify a solver to silence this warning.\n",
      "  FutureWarning)\n",
      "C:\\Users\\nisha\\Anaconda3\\lib\\site-packages\\sklearn\\linear_model\\logistic.py:433: FutureWarning: Default solver will be changed to 'lbfgs' in 0.22. Specify a solver to silence this warning.\n",
      "  FutureWarning)\n",
      "C:\\Users\\nisha\\Anaconda3\\lib\\site-packages\\sklearn\\linear_model\\logistic.py:433: FutureWarning: Default solver will be changed to 'lbfgs' in 0.22. Specify a solver to silence this warning.\n",
      "  FutureWarning)\n",
      "C:\\Users\\nisha\\Anaconda3\\lib\\site-packages\\sklearn\\linear_model\\logistic.py:433: FutureWarning: Default solver will be changed to 'lbfgs' in 0.22. Specify a solver to silence this warning.\n",
      "  FutureWarning)\n",
      "C:\\Users\\nisha\\Anaconda3\\lib\\site-packages\\sklearn\\linear_model\\logistic.py:433: FutureWarning: Default solver will be changed to 'lbfgs' in 0.22. Specify a solver to silence this warning.\n",
      "  FutureWarning)\n",
      "C:\\Users\\nisha\\Anaconda3\\lib\\site-packages\\sklearn\\linear_model\\logistic.py:433: FutureWarning: Default solver will be changed to 'lbfgs' in 0.22. Specify a solver to silence this warning.\n",
      "  FutureWarning)\n",
      "C:\\Users\\nisha\\Anaconda3\\lib\\site-packages\\sklearn\\linear_model\\logistic.py:433: FutureWarning: Default solver will be changed to 'lbfgs' in 0.22. Specify a solver to silence this warning.\n",
      "  FutureWarning)\n",
      "C:\\Users\\nisha\\Anaconda3\\lib\\site-packages\\sklearn\\linear_model\\logistic.py:433: FutureWarning: Default solver will be changed to 'lbfgs' in 0.22. Specify a solver to silence this warning.\n",
      "  FutureWarning)\n",
      "C:\\Users\\nisha\\Anaconda3\\lib\\site-packages\\sklearn\\linear_model\\logistic.py:433: FutureWarning: Default solver will be changed to 'lbfgs' in 0.22. Specify a solver to silence this warning.\n",
      "  FutureWarning)\n",
      "C:\\Users\\nisha\\Anaconda3\\lib\\site-packages\\sklearn\\linear_model\\logistic.py:433: FutureWarning: Default solver will be changed to 'lbfgs' in 0.22. Specify a solver to silence this warning.\n",
      "  FutureWarning)\n",
      "C:\\Users\\nisha\\Anaconda3\\lib\\site-packages\\sklearn\\linear_model\\logistic.py:433: FutureWarning: Default solver will be changed to 'lbfgs' in 0.22. Specify a solver to silence this warning.\n",
      "  FutureWarning)\n"
     ]
    },
    {
     "name": "stdout",
     "output_type": "stream",
     "text": [
      "LogisticRegression(C=0.1, class_weight=None, dual=False, fit_intercept=True,\n",
      "          intercept_scaling=1, max_iter=100, multi_class='warn',\n",
      "          n_jobs=None, penalty='l1', random_state=None, solver='warn',\n",
      "          tol=0.0001, verbose=0, warm_start=False)\n"
     ]
    },
    {
     "name": "stderr",
     "output_type": "stream",
     "text": [
      "C:\\Users\\nisha\\Anaconda3\\lib\\site-packages\\sklearn\\linear_model\\logistic.py:433: FutureWarning: Default solver will be changed to 'lbfgs' in 0.22. Specify a solver to silence this warning.\n",
      "  FutureWarning)\n",
      "C:\\Users\\nisha\\Anaconda3\\lib\\site-packages\\sklearn\\linear_model\\logistic.py:433: FutureWarning: Default solver will be changed to 'lbfgs' in 0.22. Specify a solver to silence this warning.\n",
      "  FutureWarning)\n",
      "C:\\Users\\nisha\\Anaconda3\\lib\\site-packages\\sklearn\\linear_model\\logistic.py:433: FutureWarning: Default solver will be changed to 'lbfgs' in 0.22. Specify a solver to silence this warning.\n",
      "  FutureWarning)\n",
      "C:\\Users\\nisha\\Anaconda3\\lib\\site-packages\\sklearn\\linear_model\\logistic.py:433: FutureWarning: Default solver will be changed to 'lbfgs' in 0.22. Specify a solver to silence this warning.\n",
      "  FutureWarning)\n"
     ]
    }
   ],
   "source": [
    "log_reg_params = {\"penalty\": ['l1', 'l2'], 'C': [0.001, 0.01, 0.1, 1, 10, 100]}\n",
    "\n",
    "grid_log_reg = GridSearchCV(LogisticRegression(), log_reg_params)\n",
    "grid_log_reg.fit(X2_train, y2_train)\n",
    "# We automatically get the logistic regression with the best parameters.\n",
    "log_reg = grid_log_reg.best_estimator_\n",
    "print(log_reg)"
   ]
  },
  {
   "cell_type": "code",
   "execution_count": 46,
   "metadata": {},
   "outputs": [],
   "source": [
    "newlogreg = LogisticRegression(C=0.1, class_weight=None, dual=False, fit_intercept=True,\n",
    "          intercept_scaling=1, max_iter=100, multi_class='warn',\n",
    "          n_jobs=None, penalty='l1', random_state=None, solver='warn',\n",
    "          tol=0.0001, verbose=0, warm_start=False)"
   ]
  },
  {
   "cell_type": "code",
   "execution_count": 47,
   "metadata": {},
   "outputs": [
    {
     "name": "stderr",
     "output_type": "stream",
     "text": [
      "C:\\Users\\nisha\\Anaconda3\\lib\\site-packages\\sklearn\\linear_model\\logistic.py:433: FutureWarning: Default solver will be changed to 'lbfgs' in 0.22. Specify a solver to silence this warning.\n",
      "  FutureWarning)\n"
     ]
    },
    {
     "name": "stdout",
     "output_type": "stream",
     "text": [
      "Optimal Cutoff: [0.31119537]\n",
      "Accurcay: 0.9112426035502958\n",
      "AUC: 0.9581930415263749\n",
      "Log Loss: 0.22435055089479783\n",
      "Confusion Matrix:\n",
      " [[86  2]\n",
      " [13 68]]\n",
      "Recall: 0.8395061728395061\n",
      "Precision: 0.9714285714285714\n"
     ]
    },
    {
     "data": {
      "image/png": "[encoded data removed]",
      "text/plain": [
       "<Figure size 432x288 with 1 Axes>"
      ]
     },
     "metadata": {
      "needs_background": "light"
     },
     "output_type": "display_data"
    }
   ],
   "source": [
    "model_training(newlogreg, X2_train, y2_train)\n",
    "plot_auc_curve(newlogreg, X2_test, y2_test)\n",
    "Find_Optimal_Cutoff(newlogreg, X2_test, y2_test)\n",
    "print_accurcay_metrics(newlogreg, X2_test, y2_test, 0.50)"
   ]
  },
  {
   "cell_type": "markdown",
   "metadata": {},
   "source": [
    "#### Now test on the original dataset i.e original_Xtest, original_ytest"
   ]
  },
  {
   "cell_type": "code",
   "execution_count": 48,
   "metadata": {},
   "outputs": [
    {
     "name": "stdout",
     "output_type": "stream",
     "text": [
      "Optimal Cutoff: [0.33215867]\n",
      "Accurcay: 0.9709162207426167\n",
      "AUC: 0.9786721165818102\n",
      "Log Loss: 0.16636557429138865\n",
      "Confusion Matrix:\n",
      " [[47462  1416]\n",
      " [    8    76]]\n",
      "Recall: 0.9047619047619048\n",
      "Precision: 0.05093833780160858\n"
     ]
    },
    {
     "data": {
      "image/png": "[encoded data removed]",
      "text/plain": [
       "<Figure size 432x288 with 1 Axes>"
      ]
     },
     "metadata": {
      "needs_background": "light"
     },
     "output_type": "display_data"
    }
   ],
   "source": [
    "plot_auc_curve(newlogreg, original_Xtest, original_ytest)\n",
    "Find_Optimal_Cutoff(newlogreg, original_Xtest, original_ytest)\n",
    "print_accurcay_metrics(newlogreg, original_Xtest, original_ytest, 0.50)"
   ]
  },
  {
   "cell_type": "code",
   "execution_count": 49,
   "metadata": {},
   "outputs": [
    {
     "name": "stdout",
     "output_type": "stream",
     "text": [
      "Optimal Cutoff: [0.33215867]\n",
      "Accurcay: 0.9921980311261794\n",
      "AUC: 0.9786721165818102\n",
      "Log Loss: 0.16636557429138865\n",
      "Confusion Matrix:\n",
      " [[48507   371]\n",
      " [   11    73]]\n",
      "Recall: 0.8690476190476191\n",
      "Precision: 0.16441441441441443\n"
     ]
    },
    {
     "data": {
      "image/png": "[encoded data removed]",
      "text/plain": [
       "<Figure size 432x288 with 1 Axes>"
      ]
     },
     "metadata": {
      "needs_background": "light"
     },
     "output_type": "display_data"
    }
   ],
   "source": [
    "#threshold = 0.75\n",
    "plot_auc_curve(newlogreg, original_Xtest, original_ytest)\n",
    "Find_Optimal_Cutoff(newlogreg, original_Xtest, original_ytest)\n",
    "print_accurcay_metrics(newlogreg, original_Xtest, original_ytest, 0.75)"
   ]
  },
  {
   "cell_type": "code",
   "execution_count": 50,
   "metadata": {},
   "outputs": [
    {
     "name": "stdout",
     "output_type": "stream",
     "text": [
      "Optimal Cutoff: [0.33215867]\n",
      "Accurcay: 0.9971814876843266\n",
      "AUC: 0.9786721165818102\n",
      "Log Loss: 0.16636557429138865\n",
      "Confusion Matrix:\n",
      " [[48753   125]\n",
      " [   13    71]]\n",
      "Recall: 0.8452380952380952\n",
      "Precision: 0.3622448979591837\n"
     ]
    },
    {
     "data": {
      "image/png": "[encoded data removed]",
      "text/plain": [
       "<Figure size 432x288 with 1 Axes>"
      ]
     },
     "metadata": {
      "needs_background": "light"
     },
     "output_type": "display_data"
    }
   ],
   "source": [
    "#threshold = 0.9\n",
    "plot_auc_curve(newlogreg, original_Xtest, original_ytest)\n",
    "Find_Optimal_Cutoff(newlogreg, original_Xtest, original_ytest)\n",
    "print_accurcay_metrics(newlogreg, original_Xtest, original_ytest, 0.9)"
   ]
  },
  {
   "cell_type": "code",
   "execution_count": 51,
   "metadata": {},
   "outputs": [
    {
     "name": "stderr",
     "output_type": "stream",
     "text": [
      "C:\\Users\\nisha\\Anaconda3\\lib\\site-packages\\sklearn\\linear_model\\logistic.py:433: FutureWarning: Default solver will be changed to 'lbfgs' in 0.22. Specify a solver to silence this warning.\n",
      "  FutureWarning)\n"
     ]
    },
    {
     "name": "stdout",
     "output_type": "stream",
     "text": [
      "Optimal Cutoff: [0.00125485]\n",
      "Accurcay: 0.999203463910788\n",
      "AUC: 0.9669100812713481\n",
      "Log Loss: 0.004406989376127361\n",
      "Confusion Matrix:\n",
      " [[48870     8]\n",
      " [   31    53]]\n",
      "Recall: 0.6309523809523809\n",
      "Precision: 0.8688524590163934\n"
     ]
    },
    {
     "data": {
      "image/png": "[encoded data removed]",
      "text/plain": [
       "<Figure size 432x288 with 1 Axes>"
      ]
     },
     "metadata": {
      "needs_background": "light"
     },
     "output_type": "display_data"
    }
   ],
   "source": [
    "model_training(newlogreg, original_Xtrain, original_ytrain)\n",
    "plot_auc_curve(newlogreg, original_Xtest, original_ytest)\n",
    "Find_Optimal_Cutoff(newlogreg, original_Xtest, original_ytest)\n",
    "print_accurcay_metrics(newlogreg, original_Xtest, original_ytest, 0.50)"
   ]
  },
  {
   "cell_type": "code",
   "execution_count": 52,
   "metadata": {},
   "outputs": [
    {
     "name": "stdout",
     "output_type": "stream",
     "text": [
      "Optimal Cutoff: [0.00125485]\n",
      "Accurcay: 0.9991013438993506\n",
      "AUC: 0.9669100812713481\n",
      "Log Loss: 0.004406989376127361\n",
      "Confusion Matrix:\n",
      " [[48870     8]\n",
      " [   36    48]]\n",
      "Recall: 0.5714285714285714\n",
      "Precision: 0.8571428571428571\n"
     ]
    },
    {
     "data": {
      "image/png": "[encoded data removed]",
      "text/plain": [
       "<Figure size 432x288 with 1 Axes>"
      ]
     },
     "metadata": {
      "needs_background": "light"
     },
     "output_type": "display_data"
    }
   ],
   "source": [
    "#model_training(newlogreg, X2_train, y2_train)\n",
    "#threshold = 0.75\n",
    "plot_auc_curve(newlogreg, original_Xtest, original_ytest)\n",
    "Find_Optimal_Cutoff(newlogreg, original_Xtest, original_ytest)\n",
    "print_accurcay_metrics(newlogreg, original_Xtest, original_ytest, 0.75)"
   ]
  },
  {
   "cell_type": "code",
   "execution_count": 53,
   "metadata": {},
   "outputs": [
    {
     "name": "stdout",
     "output_type": "stream",
     "text": [
      "Optimal Cutoff: [0.00125485]\n",
      "Accurcay: 0.9991830399085004\n",
      "AUC: 0.9669100812713481\n",
      "Log Loss: 0.004406989376127361\n",
      "Confusion Matrix:\n",
      " [[48864    14]\n",
      " [   26    58]]\n",
      "Recall: 0.6904761904761905\n",
      "Precision: 0.8055555555555556\n"
     ]
    },
    {
     "data": {
      "image/png": "[encoded data removed]",
      "text/plain": [
       "<Figure size 432x288 with 1 Axes>"
      ]
     },
     "metadata": {
      "needs_background": "light"
     },
     "output_type": "display_data"
    }
   ],
   "source": [
    "plot_auc_curve(newlogreg, original_Xtest, original_ytest)\n",
    "Find_Optimal_Cutoff(newlogreg, original_Xtest, original_ytest)\n",
    "print_accurcay_metrics(newlogreg, original_Xtest, original_ytest)"
   ]
  },
  {
   "cell_type": "code",
   "execution_count": 54,
   "metadata": {},
   "outputs": [
    {
     "name": "stdout",
     "output_type": "stream",
     "text": [
      "Optimal Cutoff: [0.00125485]\n",
      "Accurcay: 0.9992443119153629\n",
      "AUC: 0.9669100812713481\n",
      "Log Loss: 0.004406989376127361\n",
      "Confusion Matrix:\n",
      " [[48861    17]\n",
      " [   20    64]]\n",
      "Recall: 0.7619047619047619\n",
      "Precision: 0.7901234567901234\n"
     ]
    },
    {
     "data": {
      "image/png": "[encoded data removed]",
      "text/plain": [
       "<Figure size 432x288 with 1 Axes>"
      ]
     },
     "metadata": {
      "needs_background": "light"
     },
     "output_type": "display_data"
    }
   ],
   "source": [
    "plot_auc_curve(newlogreg, original_Xtest, original_ytest)\n",
    "Find_Optimal_Cutoff(newlogreg, original_Xtest, original_ytest)\n",
    "print_accurcay_metrics(newlogreg, original_Xtest, original_ytest, 0.15)"
   ]
  },
  {
   "cell_type": "code",
   "execution_count": 55,
   "metadata": {},
   "outputs": [
    {
     "name": "stdout",
     "output_type": "stream",
     "text": [
      "Optimal Cutoff: [0.00125485]\n",
      "Accurcay: 0.999203463910788\n",
      "AUC: 0.9669100812713481\n",
      "Log Loss: 0.004406989376127361\n",
      "Confusion Matrix:\n",
      " [[48858    20]\n",
      " [   19    65]]\n",
      "Recall: 0.7738095238095238\n",
      "Precision: 0.7647058823529411\n"
     ]
    },
    {
     "data": {
      "image/png": "[encoded data removed]",
      "text/plain": [
       "<Figure size 432x288 with 1 Axes>"
      ]
     },
     "metadata": {
      "needs_background": "light"
     },
     "output_type": "display_data"
    }
   ],
   "source": [
    "plot_auc_curve(newlogreg, original_Xtest, original_ytest)\n",
    "Find_Optimal_Cutoff(newlogreg, original_Xtest, original_ytest)\n",
    "print_accurcay_metrics(newlogreg, original_Xtest, original_ytest, 0.10)"
   ]
  },
  {
   "cell_type": "code",
   "execution_count": 59,
   "metadata": {},
   "outputs": [
    {
     "name": "stdout",
     "output_type": "stream",
     "text": [
      "Optimal Cutoff: [0.00125485]\n",
      "Accurcay: 0.9992443119153629\n",
      "AUC: 0.9669100812713481\n",
      "Log Loss: 0.004406989376127361\n",
      "Confusion Matrix:\n",
      " [[48861    17]\n",
      " [   20    64]]\n",
      "Recall: 0.7619047619047619\n",
      "Precision: 0.7901234567901234\n"
     ]
    },
    {
     "data": {
      "image/png": "[encoded data removed]",
      "text/plain": [
       "<Figure size 432x288 with 1 Axes>"
      ]
     },
     "metadata": {
      "needs_background": "light"
     },
     "output_type": "display_data"
    }
   ],
   "source": [
    "plot_auc_curve(newlogreg, original_Xtest, original_ytest)\n",
    "Find_Optimal_Cutoff(newlogreg, original_Xtest, original_ytest)\n",
    "print_accurcay_metrics(newlogreg, original_Xtest, original_ytest, 0.15)"
   ]
  },
  {
   "cell_type": "code",
   "execution_count": 60,
   "metadata": {},
   "outputs": [],
   "source": [
    "import pickle\n",
    "filename = 'ccmodel1.sav'\n",
    "pickle.dump(newlogreg, open(filename, 'wb'))"
   ]
  },
  {
   "cell_type": "code",
   "execution_count": 62,
   "metadata": {},
   "outputs": [
    {
     "data": {
      "text/html": [
       "<div>\n",
       "<style scoped>\n",
       "    .dataframe tbody tr th:only-of-type {\n",
       "        vertical-align: middle;\n",
       "    }\n",
       "\n",
       "    .dataframe tbody tr th {\n",
       "        vertical-align: top;\n",
       "    }\n",
       "\n",
       "    .dataframe thead th {\n",
       "        text-align: right;\n",
       "    }\n",
       "</style>\n",
       "<table border=\"1\" class=\"dataframe\">\n",
       "  <thead>\n",
       "    <tr style=\"text-align: right;\">\n",
       "      <th></th>\n",
       "      <th>id</th>\n",
       "      <th>Time</th>\n",
       "      <th>V1</th>\n",
       "      <th>V2</th>\n",
       "      <th>V3</th>\n",
       "      <th>V4</th>\n",
       "      <th>V5</th>\n",
       "      <th>V6</th>\n",
       "      <th>V7</th>\n",
       "      <th>V8</th>\n",
       "      <th>...</th>\n",
       "      <th>V22</th>\n",
       "      <th>V23</th>\n",
       "      <th>V24</th>\n",
       "      <th>V25</th>\n",
       "      <th>V26</th>\n",
       "      <th>V27</th>\n",
       "      <th>V28</th>\n",
       "      <th>Amount</th>\n",
       "      <th>scaled_amount</th>\n",
       "      <th>scaled_time</th>\n",
       "    </tr>\n",
       "  </thead>\n",
       "  <tbody>\n",
       "    <tr>\n",
       "      <th>0</th>\n",
       "      <td>30808</td>\n",
       "      <td>109847</td>\n",
       "      <td>1.930307</td>\n",
       "      <td>-0.234417</td>\n",
       "      <td>-1.583368</td>\n",
       "      <td>0.024786</td>\n",
       "      <td>1.016470</td>\n",
       "      <td>1.179664</td>\n",
       "      <td>-0.386242</td>\n",
       "      <td>0.327416</td>\n",
       "      <td>...</td>\n",
       "      <td>1.015098</td>\n",
       "      <td>0.073241</td>\n",
       "      <td>-0.804496</td>\n",
       "      <td>0.072202</td>\n",
       "      <td>-0.383211</td>\n",
       "      <td>0.016787</td>\n",
       "      <td>-0.081815</td>\n",
       "      <td>1.00</td>\n",
       "      <td>-0.290778</td>\n",
       "      <td>0.300271</td>\n",
       "    </tr>\n",
       "    <tr>\n",
       "      <th>1</th>\n",
       "      <td>174948</td>\n",
       "      <td>84730</td>\n",
       "      <td>-5.053316</td>\n",
       "      <td>-3.617236</td>\n",
       "      <td>-0.323455</td>\n",
       "      <td>1.447171</td>\n",
       "      <td>-0.097495</td>\n",
       "      <td>-0.154917</td>\n",
       "      <td>-2.076441</td>\n",
       "      <td>1.331307</td>\n",
       "      <td>...</td>\n",
       "      <td>0.036442</td>\n",
       "      <td>-1.901898</td>\n",
       "      <td>0.090641</td>\n",
       "      <td>-1.777126</td>\n",
       "      <td>0.947972</td>\n",
       "      <td>0.954071</td>\n",
       "      <td>-1.577919</td>\n",
       "      <td>333.48</td>\n",
       "      <td>4.312933</td>\n",
       "      <td>0.002449</td>\n",
       "    </tr>\n",
       "    <tr>\n",
       "      <th>2</th>\n",
       "      <td>203982</td>\n",
       "      <td>95957</td>\n",
       "      <td>0.090684</td>\n",
       "      <td>1.197902</td>\n",
       "      <td>-1.370219</td>\n",
       "      <td>0.770437</td>\n",
       "      <td>0.857203</td>\n",
       "      <td>-0.698486</td>\n",
       "      <td>1.350617</td>\n",
       "      <td>-0.952780</td>\n",
       "      <td>...</td>\n",
       "      <td>0.378177</td>\n",
       "      <td>-0.126596</td>\n",
       "      <td>0.572250</td>\n",
       "      <td>0.347829</td>\n",
       "      <td>0.538705</td>\n",
       "      <td>-0.211582</td>\n",
       "      <td>-0.267241</td>\n",
       "      <td>50.14</td>\n",
       "      <td>0.389643</td>\n",
       "      <td>0.135572</td>\n",
       "    </tr>\n",
       "    <tr>\n",
       "      <th>3</th>\n",
       "      <td>283146</td>\n",
       "      <td>142109</td>\n",
       "      <td>1.808668</td>\n",
       "      <td>-1.197522</td>\n",
       "      <td>-2.291089</td>\n",
       "      <td>-0.690236</td>\n",
       "      <td>-0.312654</td>\n",
       "      <td>-1.756994</td>\n",
       "      <td>0.631548</td>\n",
       "      <td>-0.725965</td>\n",
       "      <td>...</td>\n",
       "      <td>0.927097</td>\n",
       "      <td>-0.283918</td>\n",
       "      <td>0.134011</td>\n",
       "      <td>0.372327</td>\n",
       "      <td>0.050185</td>\n",
       "      <td>-0.121994</td>\n",
       "      <td>-0.038088</td>\n",
       "      <td>254.04</td>\n",
       "      <td>3.212960</td>\n",
       "      <td>0.682814</td>\n",
       "    </tr>\n",
       "    <tr>\n",
       "      <th>4</th>\n",
       "      <td>47316</td>\n",
       "      <td>129034</td>\n",
       "      <td>-0.920372</td>\n",
       "      <td>1.003867</td>\n",
       "      <td>-0.110709</td>\n",
       "      <td>-2.771173</td>\n",
       "      <td>0.841827</td>\n",
       "      <td>-0.497278</td>\n",
       "      <td>0.769851</td>\n",
       "      <td>0.474075</td>\n",
       "      <td>...</td>\n",
       "      <td>-0.849203</td>\n",
       "      <td>-0.124786</td>\n",
       "      <td>0.086646</td>\n",
       "      <td>-0.007944</td>\n",
       "      <td>0.360582</td>\n",
       "      <td>0.090110</td>\n",
       "      <td>0.091000</td>\n",
       "      <td>1.00</td>\n",
       "      <td>-0.290778</td>\n",
       "      <td>0.527779</td>\n",
       "    </tr>\n",
       "  </tbody>\n",
       "</table>\n",
       "<p>5 rows × 33 columns</p>\n",
       "</div>"
      ],
      "text/plain": [
       "       id    Time        V1        V2        V3        V4        V5        V6  \\\n",
       "0   30808  109847  1.930307 -0.234417 -1.583368  0.024786  1.016470  1.179664   \n",
       "1  174948   84730 -5.053316 -3.617236 -0.323455  1.447171 -0.097495 -0.154917   \n",
       "2  203982   95957  0.090684  1.197902 -1.370219  0.770437  0.857203 -0.698486   \n",
       "3  283146  142109  1.808668 -1.197522 -2.291089 -0.690236 -0.312654 -1.756994   \n",
       "4   47316  129034 -0.920372  1.003867 -0.110709 -2.771173  0.841827 -0.497278   \n",
       "\n",
       "         V7        V8     ...            V22       V23       V24       V25  \\\n",
       "0 -0.386242  0.327416     ...       1.015098  0.073241 -0.804496  0.072202   \n",
       "1 -2.076441  1.331307     ...       0.036442 -1.901898  0.090641 -1.777126   \n",
       "2  1.350617 -0.952780     ...       0.378177 -0.126596  0.572250  0.347829   \n",
       "3  0.631548 -0.725965     ...       0.927097 -0.283918  0.134011  0.372327   \n",
       "4  0.769851  0.474075     ...      -0.849203 -0.124786  0.086646 -0.007944   \n",
       "\n",
       "        V26       V27       V28  Amount  scaled_amount  scaled_time  \n",
       "0 -0.383211  0.016787 -0.081815    1.00      -0.290778     0.300271  \n",
       "1  0.947972  0.954071 -1.577919  333.48       4.312933     0.002449  \n",
       "2  0.538705 -0.211582 -0.267241   50.14       0.389643     0.135572  \n",
       "3  0.050185 -0.121994 -0.038088  254.04       3.212960     0.682814  \n",
       "4  0.360582  0.090110  0.091000    1.00      -0.290778     0.527779  \n",
       "\n",
       "[5 rows x 33 columns]"
      ]
     },
     "execution_count": 62,
     "metadata": {},
     "output_type": "execute_result"
    }
   ],
   "source": [
    "test_df.head()"
   ]
  },
  {
   "cell_type": "code",
   "execution_count": 63,
   "metadata": {},
   "outputs": [],
   "source": [
    "test1 = test_df[scaled_features]"
   ]
  },
  {
   "cell_type": "code",
   "execution_count": 64,
   "metadata": {},
   "outputs": [
    {
     "name": "stdout",
     "output_type": "stream",
     "text": [
      "[0 0 0 ... 0 0 0]\n"
     ]
    }
   ],
   "source": [
    "y_pred = newlogreg.predict(test1)\n",
    "print(y_pred)"
   ]
  },
  {
   "cell_type": "code",
   "execution_count": 68,
   "metadata": {},
   "outputs": [],
   "source": [
    "prediction = pd.DataFrame(y_pred, columns=['predicted_class']).to_csv('cc_prediction_fin.csv')"
   ]
  },
  {
   "cell_type": "code",
   "execution_count": null,
   "metadata": {},
   "outputs": [],
   "source": [
    "# rANDOM Forests\n",
    "from sklearn.ensemble import RandomForestClassifier # Random forest classifier\n",
    "from sklearn.tree import DecisionTreeClassifier # for Decision Tree classifier\n",
    "for i in range(1,4):\n",
    "    print(\"the undersample data for {} proportion\".format(i))\n",
    "    print()\n",
    "    Undersample_data = undersample(normal_indices,fraud_indices,i)\n",
    "    print(\"------------------------------------------------------------\")\n",
    "    print()\n",
    "    print(\"the model classification for {} proportion\".format(i))\n",
    "    print()\n",
    "    undersample_features_train,undersample_features_test,undersample_labels_train,undersample_labels_test=data_prepration(Undersample_data)\n",
    "    print()\n",
    "    clf= RandomForestClassifier(n_estimators=100)# here we are just changing classifier\n",
    "    model(clf,undersample_features_train,undersample_features_test,undersample_labels_train,undersample_labels_test)\n",
    "    print(\"________________________________________________________________________________________________________\")"
   ]
  },
  {
   "cell_type": "code",
   "execution_count": 69,
   "metadata": {},
   "outputs": [],
   "source": [
    "# Oversampling\n",
    "\n",
    "df = pd.read_csv('creditcard_dataset.csv')\n",
    "df_features = df.drop('Class', axis = 1)\n",
    "df_labels = df['Class']\n",
    "\n",
    "\n",
    "def PyAugOversampling():\n",
    "    #Scale DataFrame.\n",
    "    df_scaled = StandardScaler().fit_transform(df_features).reshape(-1, 30) # Reshape the NumPy array. \n",
    "    df_scaled = pd.DataFrame(df_scaled, columns = df_features.columns.values)\n",
    "\n",
    "    #Concatenate Scaled DataFrame with Unscaled Labels.\n",
    "    df_scaled = pd.concat([df_scaled, df_labels], axis = 1)\n",
    "\n",
    "    df_class0 = df_scaled.loc[df_scaled['Class'] == 0] #Extract Class = 0 (Non-Fraud).\n",
    "    df_class0 = df_class0.sample(2000) #Take Random Sample of 2000.\n",
    "    df_class1 = df_scaled.loc[df_scaled['Class'] == 1] #Extract Class = 1 (Fraud).\n",
    "\n",
    "    #Define Features and Targets for Class 0 and Class 1.\n",
    "    X0 = df_class0.drop('Class', axis = 1) #Remove target feature.\n",
    "    y0 = df_class0['Class']\n",
    "\n",
    "    X1 = df_class1.drop('Class', axis = 1) #Remove target feature.\n",
    "    y1 = df_class1['Class']\n",
    "\n",
    "    X_train0, X_test0, y_train0, y_test0 = train_test_split(X0, y0, test_size = 0.5, random_state = 0)\n",
    "    X_train1, X_test1, y_train1, y_test1 = train_test_split(X1, y1, test_size = 0.5, random_state = 0)\n",
    "\n",
    "\n",
    "    Xtrain1_ytrain1_concat = pd.concat([X_train1, y_train1], axis = 1) #Concatenate X_train1 and y_train1 to augment 1000 news rows.\n",
    "    aug_train1 = PyAugLinear(Xtrain1_ytrain1_concat, 1000, 3, ['Class']) #Generate 1000 synthetic results using PyAug.\n",
    "\n",
    "    aug_train1_features = aug_train1.drop('Class', axis = 1) #Remove target feature.\n",
    "    aug_train1_class = aug_train1['Class']\n",
    "\n",
    "    X_train = pd.concat([X_train0, aug_train1_features], axis = 0) #Concatenate X_train0 and aug_train1_features.\n",
    "    y_train = pd.concat([y_train0, aug_train1_class], axis = 0) #Concatenate y_train0 and aug_train1_class.\n",
    "\n",
    "    X_test = pd.concat([X_test0.sample(len(X_test1)), X_test1], axis = 0) #Make Sure Sample size correct\n",
    "    y_test = pd.concat([y_test0.sample(len(y_test1)), y_test1], axis = 0) #Make Sure Sample size correct\n",
    "\n",
    "\n",
    "    #Machine Learning.\n",
    "    lr = LogisticRegression(C = 1e5, solver = 'liblinear') # Initiate LogisticRegression model.\n",
    "    lr.fit(X_train, y_train) # Fit the LogisticRegression model.\n",
    "    y_pred = lr.predict(X_test) # Predict y_pred values using X_test features.\n",
    "\n",
    "    \n",
    "    #Assess Machine Learning Model.\n",
    "    results_matrix = confusion_matrix(y_test, y_pred)\n",
    "    accuracyscore = float('%.3f' % accuracy_score(y_test, y_pred))\n",
    "    ROCAUCscore =  float('%.3f' % roc_auc_score(y_test, y_pred))\n",
    "    recallscore = float('%.3f' % recall_score(y_test, y_pred))\n",
    "    \n",
    "    metrics = [accuracyscore, ROCAUCscore, recallscore]\n",
    "    return metrics\n",
    "\n",
    "\n",
    "#Iterating and Evaluating Average Metrics.\n",
    "iteration_results_oversampling = []\n",
    "for _ in range(10):\n",
    "    iteration_results_oversampling.append(PyAugOversampling())\n",
    " \n",
    "PyAug_df = pd.DataFrame(iteration_results_oversampling, columns = ['Accuracy', 'ROCAUC', 'Recall'])\n",
    "\n",
    "average_accuracy_oversampling = PyAug_df['Accuracy'].mean()\n",
    "average_ROCAUC_oversampling = PyAug_df['ROCAUC'].mean()\n",
    "average_recall_oversampling = PyAug_df['Recall'].mean()\n",
    "\n",
    "print(PyAug_df.head())\n",
    "print('Average Accuracy', float('%.3f' % average_accuracy_oversampling))\n",
    "print('Average ROCAUC', float('%.3f' % average_ROCAUC_oversampling))\n",
    "print('Average Recall', float('%.3f' % average_recall_oversampling))"
   ]
  }
 ],
 "metadata": {
  "kernelspec": {
   "display_name": "Python 3",
   "language": "python",
   "name": "python3"
  },
  "language_info": {
   "codemirror_mode": {
    "name": "ipython",
    "version": 3
   },
   "file_extension": ".py",
   "mimetype": "text/x-python",
   "name": "python",
   "nbconvert_exporter": "python",
   "pygments_lexer": "ipython3",
   "version": "3.7.3"
  }
 },
 "nbformat": 4,
 "nbformat_minor": 2
}
